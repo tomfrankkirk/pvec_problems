{
 "cells": [
  {
   "cell_type": "code",
   "execution_count": 1,
   "metadata": {},
   "outputs": [
    {
     "name": "stdout",
     "output_type": "stream",
     "text": [
      "Using matplotlib backend: MacOSX\n"
     ]
    }
   ],
   "source": [
    "%matplotlib\n",
    "%load_ext autoreload \n",
    "%autoreload 2 \n",
    "from fabber import FabberCl\n",
    "import fabber \n",
    "import numpy as np \n",
    "import matplotlib.pyplot as plt\n",
    "from fabber_funcs import get_fabber_data\n",
    "fab = FabberCl()"
   ]
  },
  {
   "cell_type": "code",
   "execution_count": 2,
   "metadata": {},
   "outputs": [
    {
     "name": "stdout",
     "output_type": "stream",
     "text": [
      "output, method, model, data\n"
     ]
    }
   ],
   "source": [
    "model_options, _ = fab.get_options(\"aslrest\")\n",
    "# print(*[o for o in model_options], sep='\\n')\n",
    "print(\", \".join([option[\"name\"] for option in model_options if not option[\"optional\"]]))"
   ]
  },
  {
   "cell_type": "code",
   "execution_count": 3,
   "metadata": {},
   "outputs": [],
   "source": [
    "N_REPEATS = 10\n",
    "FAB_OPTIONS = ({\n",
    "    \"model\": \"aslrest\", \n",
    "    \"inctiss\": True,\n",
    "    \"pld\": 1.5,\n",
    "    \"repeats\": N_REPEATS,\n",
    "    \"tau\": 1,\n",
    "    \"casl\": True\n",
    "})"
   ]
  },
  {
   "cell_type": "code",
   "execution_count": 7,
   "metadata": {},
   "outputs": [],
   "source": [
    "simdata = fab.model_evaluate(FAB_OPTIONS, {\n",
    "        'ftiss': 60, \n",
    "    }, 10)\n",
    "simdata = np.array(simdata)[None,None,None,:] * np.ones((5,5,5,N_REPEATS))\n",
    "# simdata += (2 * (np.random.rand(*simdata.shape) - 0.5))\n",
    "# nii = nibabel.Nifti1Image(simdata, np.eye(4))\n",
    "# nii.to_filename('data.nii.gz')"
   ]
  },
  {
   "cell_type": "code",
   "execution_count": 5,
   "metadata": {},
   "outputs": [
    {
     "name": "stdout",
     "output_type": "stream",
     "text": [
      "FabberRunDataNewimage::Loading mask data from '/var/folders/dg/6sqkrd5132n7srn_75h74nd80000gn/T/tmpu53a145rfabberin/fabdboz4oxh'\n",
      "FabberRunDataNewimage::Dimensions: x=5, y=5, z=5, vols=1\n",
      "FabberRunDataNewimage::Voxel size: x=1mm, y=1mm, z=1mm, TR=1 sec\n",
      "FabberRunDataNewimage::Intents: 0, 0, 0, 0\n",
      "FabberRunDataNewimage::Setting coordinates from extent\n",
      "FabberRunData::FABBER release: v4.0.8-2-ged54c1e\n",
      "FabberRunData::Last commit: Thu Jul 23 09:42:04 2020\n",
      "FabberRunData::Start time: Tue Nov 24 18:40:14 2020\n",
      "FabberRunData::Parameter =/Users/tom/modules/fsldev/bin/fabber_asl\n",
      "FabberRunData::Parameter casl=\n",
      "FabberRunData::Parameter data=data.nii.gz\n",
      "FabberRunData::Parameter dump-param-names=\n",
      "FabberRunData::Parameter inctiss=\n",
      "FabberRunData::Parameter link-to-latest=\n",
      "FabberRunData::Parameter mask=/var/folders/dg/6sqkrd5132n7srn_75h74nd80000gn/T/tmpu53a145rfabberin/fabdboz4oxh\n",
      "FabberRunData::Parameter method=vb\n",
      "FabberRunData::Parameter model=aslrest\n",
      "FabberRunData::Parameter noise=white\n",
      "FabberRunData::Parameter output=/var/folders/dg/6sqkrd5132n7srn_75h74nd80000gn/T/tmpmgh7pnetfabberout/fabout\n",
      "FabberRunData::Parameter pld=1.5\n",
      "FabberRunData::Parameter repeats=10\n",
      "FabberRunData::Parameter save-free-energy=\n",
      "FabberRunData::Parameter save-mean=\n",
      "FabberRunData::Parameter save-mvn=\n",
      "FabberRunData::Parameter save-noise-mean=\n",
      "FabberRunData::Parameter save-noise-std=\n",
      "FabberRunData::Parameter save-std=\n",
      "FabberRunData::Parameter save-zstat=\n",
      "FabberRunData::Parameter simple-output=\n",
      "FabberRunData::Parameter tau=1\n",
      "Inference using resting state ASL model\n",
      "INCLUSIONS:\n",
      "Tissue\n",
      "Number of components: 1\n",
      "INFERENCE:\n",
      "------\n",
      "Kinetic model:\n",
      "Data being analysed using CASL inversion profile\n",
      "Tissue model:No dispersion | Well mixed\n",
      "------\n",
      "Data parameters: #repeats = [ 10 ]\n",
      " t1 = 1.3, t1b = 1.65 bolus duration (tau) = 1\n",
      "TIs: 2.5 \n",
      "FabberRunData::Forward Model version fwdmodel_asl_rest.cc Revision v2.0.5-2-g182e20f-dirty Last commit Thu Jul 23 09:40:57 2020\n",
      "InferenceTechnique::Model has 1 parameters\n",
      "InferenceTechnique::Note: numerical errors in voxels will cause the program to halt.\n",
      "InferenceTechnique::Use --allow-bad-voxels (with caution!) to keep on calculating.\n",
      "WhiteNoiseMode::Pattern of phis used is [ 1 ]\n",
      "Vb::Noise has 1 parameters\n",
      "FabberRunData::GetVoxelData: coords=coords mean value=2\n",
      "FabberRunData::Num voxels 125\n",
      "FabberRunDataNewimage::Loading data from 'data.nii.gz'\n",
      "FabberRunDataNewimage::Dimensions: x=5, y=5, z=5, vols=10\n",
      "FabberRunDataNewimage::Voxel size: x=1mm, y=1mm, z=1mm, TR=1 sec\n",
      "FabberRunDataNewimage::Intents: 0, 0, 0, 0\n",
      "FabberRunDataNewimage::Applying mask to data...\n",
      "FabberRunData::GetVoxelData: data=data.nii.gz mean value=29.1578\n",
      "FabberRunData::GetVoxelData: coords=coords mean value=2\n",
      "PriorFactory::CreatePriors DefaultPrior: Parameter 0 'ftiss' mean: 0 precision: 1e+12\n",
      "Vb::Voxelwise calculations loop\n",
      "WhiteNoiseMode::Pattern of phis used is [ 1 1 1 1 1 1 1 1 1 1 ]\n",
      "FabberRunData::Saving results \n",
      "InferenceTechnique::Preparing to save results...\n",
      "FabberRunDataNewimage::Saving to nifti: finalMVN\n",
      "InferenceTechnique::Writing means...\n",
      "FabberRunDataNewimage::Saving to nifti: mean_ftiss\n",
      "FabberRunDataNewimage::Saving to nifti: zstat_ftiss\n",
      "FabberRunDataNewimage::Saving to nifti: std_ftiss\n",
      "InferenceTechnique::Writing model time series data (fit, residuals and model-specific output)\n",
      "FabberRunData::GetVoxelData: data=data.nii.gz mean value=29.1578\n",
      "FabberRunData::GetVoxelData: coords=coords mean value=2\n",
      "InferenceTechnique::Evaluating model for output: \n",
      "InferenceTechnique::Evaluating model for output: aif\n",
      "InferenceTechnique::Done writing results.\n",
      "Vb::Preparing to save results...\n",
      "Vb::Writing noise\n",
      "FabberRunDataNewimage::Saving to nifti: noise_means\n",
      "FabberRunDataNewimage::Saving to nifti: noise_stdevs\n",
      "Vb::Writing free energy\n",
      "FabberRunDataNewimage::Saving to nifti: freeEnergy\n",
      "Vb::Done writing results.\n",
      "FabberRunData::All done.\n",
      "FabberRunData::Start time: Tue Nov 24 18:40:14 2020\n",
      "FabberRunData::End time: Tue Nov 24 18:40:14 2020\n",
      "FabberRunData::Duration: 0 seconds.\n",
      "\n"
     ]
    },
    {
     "data": {
      "text/plain": [
       "{'mean_ftiss': array([[[7.5465011e-14, 7.4879542e-14, 7.5152571e-14, 7.5490666e-14,\n",
       "          7.4904309e-14],\n",
       "         [7.5027000e-14, 7.5185274e-14, 7.4905536e-14, 7.5266833e-14,\n",
       "          7.5189881e-14],\n",
       "         [7.5132880e-14, 7.5806603e-14, 7.5229719e-14, 7.5077355e-14,\n",
       "          7.5397987e-14],\n",
       "         [7.4854877e-14, 7.5184935e-14, 7.4416588e-14, 7.6396009e-14,\n",
       "          7.5239077e-14],\n",
       "         [7.5150145e-14, 7.5162471e-14, 7.5320785e-14, 7.4928982e-14,\n",
       "          7.5013021e-14]],\n",
       " \n",
       "        [[7.5635048e-14, 7.5011388e-14, 7.5831384e-14, 7.5233690e-14,\n",
       "          7.5637474e-14],\n",
       "         [7.5881894e-14, 7.4832732e-14, 7.4478218e-14, 7.5442839e-14,\n",
       "          7.3842679e-14],\n",
       "         [7.5648729e-14, 7.5785976e-14, 7.5144914e-14, 7.5680774e-14,\n",
       "          7.5049213e-14],\n",
       "         [7.5449399e-14, 7.4350431e-14, 7.4603945e-14, 7.3974254e-14,\n",
       "          7.5098185e-14],\n",
       "         [7.5566113e-14, 7.4253856e-14, 7.4973217e-14, 7.5474966e-14,\n",
       "          7.5441836e-14]],\n",
       " \n",
       "        [[7.4965865e-14, 7.5114468e-14, 7.4132662e-14, 7.4760354e-14,\n",
       "          7.5085358e-14],\n",
       "         [7.5387315e-14, 7.5045974e-14, 7.5326003e-14, 7.4572984e-14,\n",
       "          7.4583901e-14],\n",
       "         [7.4670447e-14, 7.3940067e-14, 7.4280134e-14, 7.5582058e-14,\n",
       "          7.4969043e-14],\n",
       "         [7.5408863e-14, 7.4453742e-14, 7.4864831e-14, 7.4633869e-14,\n",
       "          7.5263553e-14],\n",
       "         [7.4816984e-14, 7.5070687e-14, 7.5288679e-14, 7.4947637e-14,\n",
       "          7.5583609e-14]],\n",
       " \n",
       "        [[7.4786152e-14, 7.4276888e-14, 7.5006827e-14, 7.5069555e-14,\n",
       "          7.5740216e-14],\n",
       "         [7.5542423e-14, 7.4617823e-14, 7.5700764e-14, 7.4945841e-14,\n",
       "          7.5291370e-14],\n",
       "         [7.5672772e-14, 7.4802964e-14, 7.5061112e-14, 7.5862690e-14,\n",
       "          7.5258532e-14],\n",
       "         [7.4999421e-14, 7.5282222e-14, 7.5467369e-14, 7.4903550e-14,\n",
       "          7.5414589e-14],\n",
       "         [7.5419705e-14, 7.5192280e-14, 7.3979526e-14, 7.4780853e-14,\n",
       "          7.4818081e-14]],\n",
       " \n",
       "        [[7.5091151e-14, 7.5621645e-14, 7.4460024e-14, 7.5527990e-14,\n",
       "          7.5520448e-14],\n",
       "         [7.4772870e-14, 7.6708584e-14, 7.5719514e-14, 7.5103328e-14,\n",
       "          7.5439844e-14],\n",
       "         [7.4805681e-14, 7.5646148e-14, 7.5673104e-14, 7.4908863e-14,\n",
       "          7.5983551e-14],\n",
       "         [7.5269841e-14, 7.4823292e-14, 7.5089064e-14, 7.4726080e-14,\n",
       "          7.5559283e-14],\n",
       "         [7.5470520e-14, 7.5173598e-14, 7.5474376e-14, 7.5274761e-14,\n",
       "          7.5047526e-14]]], dtype=float32)}"
      ]
     },
     "execution_count": 5,
     "metadata": {},
     "output_type": "execute_result"
    }
   ],
   "source": [
    "run_options = {\n",
    "    **FAB_OPTIONS, \n",
    "    \n",
    "    \"method\": \"vb\",\n",
    "    \"noise\": \"white\",\n",
    "    \"data\": 'data.nii.gz', \n",
    "    \"mask\": np.ones(simdata.shape[:3], dtype=np.int8),\n",
    "    \"save-mean\": True, \n",
    "}\n",
    "run = fab.run(run_options)\n",
    "print(run.log)\n",
    "run.data"
   ]
  },
  {
   "cell_type": "code",
   "execution_count": null,
   "metadata": {},
   "outputs": [],
   "source": []
  },
  {
   "cell_type": "code",
   "execution_count": null,
   "metadata": {},
   "outputs": [],
   "source": []
  },
  {
   "cell_type": "code",
   "execution_count": null,
   "metadata": {},
   "outputs": [],
   "source": []
  }
 ],
 "metadata": {
  "kernelspec": {
   "display_name": "Python 3.7.6 64-bit ('anaconda3': virtualenv)",
   "language": "python",
   "name": "python37664bitanaconda3virtualenva7fb9c4bdabf49c78baef1918591f636"
  },
  "language_info": {
   "codemirror_mode": {
    "name": "ipython",
    "version": 3
   },
   "file_extension": ".py",
   "mimetype": "text/x-python",
   "name": "python",
   "nbconvert_exporter": "python",
   "pygments_lexer": "ipython3",
   "version": "3.7.9"
  }
 },
 "nbformat": 4,
 "nbformat_minor": 4
}
