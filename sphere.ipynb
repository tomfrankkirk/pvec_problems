{
 "cells": [
  {
   "cell_type": "markdown",
   "metadata": {
    "jupyter": {
     "source_hidden": true
    }
   },
   "source": [
    "# The interplay between PVE and resampling\n",
    "\n",
    "Re-write this: the distinction is between ASL space and structural space, and the problems arise when moving ASL data around. We need to be able to add double-resampled PVs as an example case, for which we'd transform PVs from structural to ASL space and then back again. \n",
    "\n",
    "Performing voxel-wise analysis of repeat acquisitions to assess the performance of PVEc is methodologically challenging due to the confounding effects introduced by registration/resampling that any such analysis requires.\n",
    "\n",
    "Consider the following situation: \n",
    "- A set of repeat ASL acquisitions, all of which are slightly out of alignment with each other. We would like to perform voxel-wise analysis on the outputs, so we need; \n",
    "- A space used to perform voxel-wise analysis of CBF estimates with PVEc, for example, the T1-ASL-gridded space (though this argument would apply to *any* space and voxel resolution does have a role to play). The only important requirement is that the CBF maps from each acquisition must be aligned with each other in the analysis space, otherwise a voxel-wise analysis is invalid in the first place. We refer to this as the common aligned space. \n",
    "\n",
    "![Experimental layout for Maastricht data](figs/maastricht_layout.png)\n",
    "\n",
    "The above setup is what I have been trying to do with the Maastricht data, as well as Melvin's PCASL reproducibility data previously. The implication of having a common analysis space, into which all repeat acquisitions must be transformed (whether before or after analysis, ie, raw ASL data or output CBF map), is that the PV map for this space is *fixed*, ie, does not depend on the repeat data itself. This is quite intuitive when using T1-ASL-gridded space; the corresponding PV map for all analysis is simply a resized copy of the T1-space PV estimates (eg FAST). \n",
    "\n",
    "The metric that I have been using to assess the performance of PVEc is voxel-wise coefficient of variation, defined generally as follows: (std deviation between runs) / (mean of runs) [there are multiple definitions]. Our hypothesis is that PVEc is beneficial because it reduces the CoV between runs; ie, renders the output CBF maps more similar to each other. The reason why the CBF maps differ in the first place is because the extent of PVE within each acquisition is slightly different to start with (different position of the head within the scanner, different anatomy between subjects etc). PVEc should be able to overcome the differing levels of PVE and therefore reduce the differences in CBF estimates. \n",
    "\n",
    "However, in the situation we've set up, the PV map in the analysis space is fixed for all acquisitions. Therefore, when performing PVEc on each acquisition in turn, only one of the inputs to the PVEc algorithm (the data containing PVE) is changing; the other input (the PV map) remains constant. **This is despite the fact that the amount of PVE present in each run is clearly different**. Intuitively, the following example helps illustrate this fact: consider a voxel in the analysis space that is 40% GM, 60% WM. For PVEc to function correctly, the signal within that voxel must truly be 40% GM in origin and 60% WM. Now consider where that same voxel 'came from' in each of the original acquisitions. In one of them, it may have contained more GM, in another, more WM. Therefore, the PVE present within the voxel are different on each run, but when we register and transform the data to the analysis space, we necessarily have to assign **a single PV estimate** to that voxel for all runs, despite this clearly not being true. An alternative way of thinking about this is that registration and resampling are not PV aware: we are corrupting data that has already been corrputed due to PVE, and even worse, we have no way faithfully preserving the amount of PVE corruption before and after. \n",
    "\n",
    "To summarise, the paradox is as follows. If analysing repeat ASL acquisitions with PVEc in a common analysis space, we are forced to use a single PV map to correct all images, despite the fact that the PVE present in each acquisition is different. This constrains the PVEc algorithm to *ignore* the very thing that is responsible for the variation between runs: *we know that the PVE is different between runs*, otherwise we wouldn't be interested in performing PVEc in the first place... \n",
    "\n",
    "Some simulated examples (both artifical and with brain data) should help illustrate this. "
   ]
  },
  {
   "cell_type": "code",
   "execution_count": 4,
   "metadata": {},
   "outputs": [
    {
     "name": "stdout",
     "output_type": "stream",
     "text": [
      "The autoreload extension is already loaded. To reload it, use:\n",
      "  %reload_ext autoreload\n"
     ]
    }
   ],
   "source": [
    "%load_ext autoreload \n",
    "%autoreload 2\n",
    "import regtricks as rt \n",
    "import matplotlib.pyplot as plt\n",
    "import numpy as np \n",
    "import nibabel \n",
    "from pdb import set_trace\n",
    "from scipy.spatial.transform import Rotation\n",
    "import pvec_functions \n",
    "from fabber_funcs import run_basil, run_svb, simulate_data\n",
    "import sys \n",
    "import trimesh\n",
    "import toblerone\n",
    "from svb.data import HybridModel\n",
    "\n",
    "np.random.seed(1)"
   ]
  },
  {
   "cell_type": "code",
   "execution_count": 5,
   "metadata": {},
   "outputs": [],
   "source": [
    "asl_spc = rt.ImageSpace.create_axis_aligned([0,0,0], [20,20,20], [3,3,3])\n",
    "cent = asl_spc.fov_size / 2 \n",
    "t1_spc = asl_spc.resize_voxels(1 / 4)\n",
    "mid_slice = asl_spc.size[-1] // 2"
   ]
  },
  {
   "cell_type": "code",
   "execution_count": 6,
   "metadata": {},
   "outputs": [],
   "source": [
    "sph = trimesh.creation.icosphere(3, 20)\n",
    "surf = toblerone.Surface.manual(sph.vertices, sph.faces)\n",
    "L1 = surf.mesh_laplacian(1)\n",
    "\n",
    "sph = trimesh.creation.icosphere(4, 20)\n",
    "surf = toblerone.Surface.manual(sph.vertices, sph.faces)\n",
    "L2 = surf.mesh_laplacian(1)"
   ]
  },
  {
   "cell_type": "code",
   "execution_count": 7,
   "metadata": {},
   "outputs": [],
   "source": [
    "sph = trimesh.creation.icosphere(3, 1)\n",
    "insurf = toblerone.Surface.manual((24 * sph.vertices) + cent, sph.faces)\n",
    "outsurf = toblerone.Surface.manual((27 * sph.vertices) + cent, sph.faces)"
   ]
  },
  {
   "cell_type": "code",
   "execution_count": 8,
   "metadata": {},
   "outputs": [
    {
     "name": "stdout",
     "output_type": "stream",
     "text": [
      "Initialising projector (will take some time)\n"
     ]
    },
    {
     "name": "stderr",
     "output_type": "stream",
     "text": [
      "L cortex in: 100%|########## 00:53 | 00:00\n",
      "L cortex out: 100%|########## 01:09 | 00:00\n"
     ]
    }
   ],
   "source": [
    "hemi = toblerone.Hemisphere(insurf, outsurf, 'L')\n",
    "proj = toblerone.Projector(hemi, asl_spc, cores=8)"
   ]
  },
  {
   "cell_type": "code",
   "execution_count": 115,
   "metadata": {},
   "outputs": [],
   "source": [
    "pvs = proj.flat_pvs().reshape(*asl_spc.size, -1)[...,:2]\n",
    "brain_mask = (pvs > 0.01).any(-1)\n",
    "gmmask = (pvs[...,0] > 0.01)\n",
    "wmmask = (pvs[...,1] > 0.01)"
   ]
  },
  {
   "cell_type": "markdown",
   "metadata": {},
   "source": [
    "Simulate some ASL data using the aslrest model. GM has constant CBF of 60 with an ATT of 1.3, WM has constant CBF of 20 with an ATT of 1.6. PVE are introduced by simulating separate data for GM and WM and then adding them together in the correct PV weightings. This is multi PLD CASL data with 1 repeat per PLD (and no noise). Other model parameters are as follows: "
   ]
  },
  {
   "cell_type": "markdown",
   "metadata": {},
   "source": [
    "Run oxasl on the ASL data to get PV-weighted CBF. "
   ]
  },
  {
   "cell_type": "code",
   "execution_count": 10,
   "metadata": {},
   "outputs": [],
   "source": [
    "CBF = [60, 20]\n",
    "ATT = [1.3, 1.6]\n",
    "TAU = 1.0\n",
    "REPEATS = 5 \n",
    "plds = [1.0, 1.25, 1.5, 1.75, 2.0]\n",
    "opts = dict(plds=plds, repeats=5, tau=TAU, casl=True, pvcorr=True, \n",
    "            mask=brain_mask, pvgm=pvs[...,0], pvwm=pvs[...,1])\n",
    "data = simulate_data([ CBF[0], ATT[0], CBF[1], ATT[1] ], 0, opts, asl_spc.size)\n",
    "data_n = data + np.random.normal(0, 0, size=data.shape)"
   ]
  },
  {
   "cell_type": "code",
   "execution_count": 11,
   "metadata": {},
   "outputs": [
    {
     "data": {
      "text/plain": [
       "<matplotlib.image.AxesImage at 0x7ff669697c10>"
      ]
     },
     "execution_count": 11,
     "metadata": {},
     "output_type": "execute_result"
    },
    {
     "data": {
      "image/png": "[encoded data removed]",
      "text/plain": [
       "<Figure size 432x288 with 1 Axes>"
      ]
     },
     "metadata": {
      "needs_background": "light"
     },
     "output_type": "display_data"
    }
   ],
   "source": [
    "plt.imshow(data_n[...,10,19])"
   ]
  },
  {
   "cell_type": "markdown",
   "metadata": {},
   "source": [
    "**Note that all of the following analysis is restricted to voxels that contain both GM and WM (as opposed to pure GM/WM): these suffer the most from PVE.**\n",
    "\n",
    "Plots: the GM PV map for the sphere in the ASL voxel grid, the simulated CBF data with PVE, and a histogram of CBF within those voxels that suffer from PVE. As can be seen from the histogram, yes, PVE are indeed real! Although the ground truth CBF values are 60 and 20, in reality we have many voxels with intermediate CBF values. The discrete CBF values arise due to the symmetry of this artifical example. "
   ]
  },
  {
   "cell_type": "code",
   "execution_count": 144,
   "metadata": {},
   "outputs": [
    {
     "name": "stdout",
     "output_type": "stream",
     "text": [
      "Automatic pdb calling has been turned ON\n"
     ]
    }
   ],
   "source": [
    "%pdb"
   ]
  },
  {
   "cell_type": "code",
   "execution_count": 145,
   "metadata": {},
   "outputs": [
    {
     "name": "stdout",
     "output_type": "stream",
     "text": [
      "basil -i basil_out/data.nii.gz -o basil_out/basil_out -m basil_out/mask.nii.gz --optfile=basil_out/basil_opts.txt  --pgm=basil_out/pvgm.nii.gz --pwm=basil_out/pvwm.nii.gz\n",
      "basil options: --repeats=5 --casl --tau=1.0 --bat=1.3 --batwm=1.6 --pld1=1.0 --pld2=1.25 --pld3=1.5 --pld4=1.75 --pld5=2.0   \n",
      "\n",
      "\n",
      "final ak 7357.45\n"
     ]
    }
   ],
   "source": [
    "opts = {    \n",
    "    \"repeats\": REPEATS, \n",
    "    \"casl\": True, \n",
    "    \"tau\": TAU,\n",
    "    \"bat\": 1.3, \n",
    "    \"batwm\": 1.6\n",
    "}\n",
    "opts.update({ f'pld{n+1}' : p for n,p in enumerate(plds) })\n",
    "basl,batt = run_basil(asl_spc.make_nifti(data_n), brain_mask, opts, pvs)"
   ]
  },
  {
   "cell_type": "code",
   "execution_count": 146,
   "metadata": {},
   "outputs": [
    {
     "data": {
      "image/png": "[encoded data removed]",
      "text/plain": [
       "<Figure size 432x288 with 1 Axes>"
      ]
     },
     "metadata": {
      "needs_background": "light"
     },
     "output_type": "display_data"
    }
   ],
   "source": [
    "bins = np.arange(0,100,2)\n",
    "plt.hist(basl[gmmask,0], bins)\n",
    "plt.hist(basl[wmmask,1], bins)\n",
    "plt.xlim(0,100)\n",
    "plt.show()"
   ]
  },
  {
   "cell_type": "code",
   "execution_count": 98,
   "metadata": {},
   "outputs": [
    {
     "name": "stdout",
     "output_type": "stream",
     "text": [
      "basil -i basil_out/data.nii.gz -o basil_out/basil_out -m basil_out/mask.nii.gz --optfile=basil_out/basil_opts.txt \n",
      "basil options: --repeats=5 --casl --tau=1.0 --pld1=1.0 --pld2=1.25 --pld3=1.5 --pld4=1.75 --pld5=2.0 --pc=0.98 --t1=1.3 --fcalib=0.01 --bat=1.3   \n",
      "\n",
      "\n",
      "basil -i basil_out/data.nii.gz -o basil_out/basil_out -m basil_out/mask.nii.gz --optfile=basil_out/basil_opts.txt \n",
      "basil options: --repeats=5 --casl --tau=1.0 --pld1=1.0 --pld2=1.25 --pld3=1.5 --pld4=1.75 --pld5=2.0 --pc=0.8 --t1=1.1 --fcalib=0.003 --bat=1.6   \n",
      "\n",
      "\n"
     ]
    }
   ],
   "source": [
    "cbf_pvc_lr, att_pvc_lr = pvec_functions.pvec_lr(asl_spc.make_nifti(data_n), pvs, brain_mask, opts)"
   ]
  },
  {
   "cell_type": "code",
   "execution_count": 126,
   "metadata": {},
   "outputs": [
    {
     "data": {
      "image/png": "[encoded data removed]",
      "text/plain": [
       "<Figure size 432x288 with 1 Axes>"
      ]
     },
     "metadata": {
      "needs_background": "light"
     },
     "output_type": "display_data"
    }
   ],
   "source": [
    "bins = np.arange(0,100,2)\n",
    "plt.hist(cbf_pvc_lr[gmmask,0], bins)\n",
    "plt.hist(cbf_pvc_lr[wmmask,1], bins)\n",
    "plt.xlim(0,100)\n",
    "plt.show()"
   ]
  },
  {
   "cell_type": "code",
   "execution_count": 127,
   "metadata": {},
   "outputs": [
    {
     "data": {
      "text/plain": [
       "Registration (linear) with properties:\n",
       "src2ref:       [   1.000    0.000    0.000    0.700]\n",
       "               [   0.000    1.000    0.000    1.400]\n",
       "               [   0.000    0.000    1.000    2.200]\n",
       "               [   0.000    0.000    0.000    1.000]"
      ]
     },
     "execution_count": 127,
     "metadata": {},
     "output_type": "execute_result"
    }
   ],
   "source": [
    "shift = np.array([0.7,1.4,2.2])\n",
    "transform = np.eye(4)\n",
    "transform[:3,3] = shift\n",
    "transform = rt.Registration(transform)\n",
    "transform"
   ]
  },
  {
   "cell_type": "markdown",
   "metadata": {},
   "source": [
    "Apply the transformation to the CBF data. Calculate a **new** PV map in alignment with the transformation, aka 'native space' (resampling is not required for this, we use a numerical method). \n",
    "Perform PVEc on the *transformed CBF* using the *native PVs*. "
   ]
  },
  {
   "cell_type": "code",
   "execution_count": 134,
   "metadata": {},
   "outputs": [],
   "source": [
    "data_trans = transform.apply_to_array(data, asl_spc, asl_spc, order=1)\n",
    "data_trans = transform.inverse().apply_to_array(data_trans, asl_spc, asl_spc, order=1)\n",
    "data_trans_n = data_trans + np.random.normal(0, 0, size=data.shape)\n",
    "pvs_trans = transform.apply_to_array(pvs, asl_spc, asl_spc, order=1)\n",
    "pvs_trans = transform.inverse().apply_to_array(pvs_trans, asl_spc, asl_spc, order=1)"
   ]
  },
  {
   "cell_type": "code",
   "execution_count": 129,
   "metadata": {},
   "outputs": [],
   "source": [
    "# pvs_t = proj_trans.flat_pvs().reshape(*asl_spc.size, -1)[...,:2]\n",
    "# brain_mask_t = (pvs_t > 0.01).any(-1)\n",
    "# gmmask_t = (pvs_t[brain_mask_t,0] > 0.01).flatten()\n",
    "# wmmask_t = (pvs_t[brain_mask_t,1] > 0.01).flatten()"
   ]
  },
  {
   "cell_type": "markdown",
   "metadata": {},
   "source": [
    "Plots of the original CBF map, CBF after transformation, and the new GM PV map in native space. "
   ]
  },
  {
   "cell_type": "code",
   "execution_count": 130,
   "metadata": {},
   "outputs": [
    {
     "data": {
      "text/plain": [
       "<matplotlib.image.AxesImage at 0x7ff66f0da520>"
      ]
     },
     "execution_count": 130,
     "metadata": {},
     "output_type": "execute_result"
    },
    {
     "data": {
      "image/png": "[encoded data removed]",
      "text/plain": [
       "<Figure size 432x288 with 2 Axes>"
      ]
     },
     "metadata": {
      "needs_background": "light"
     },
     "output_type": "display_data"
    }
   ],
   "source": [
    "plt.subplot(1,2,1)\n",
    "plt.imshow(data_n[...,10,0])\n",
    "plt.subplot(1,2,2)\n",
    "plt.imshow(data_trans_n[...,10,0])"
   ]
  },
  {
   "cell_type": "code",
   "execution_count": 147,
   "metadata": {},
   "outputs": [
    {
     "name": "stdout",
     "output_type": "stream",
     "text": [
      "basil -i basil_out/data.nii.gz -o basil_out/basil_out -m basil_out/mask.nii.gz --optfile=basil_out/basil_opts.txt  --pgm=basil_out/pvgm.nii.gz --pwm=basil_out/pvwm.nii.gz\n",
      "basil options: --repeats=5 --casl --tau=1.0 --bat=1.3 --batwm=1.6 --pld1=1.0 --pld2=1.25 --pld3=1.5 --pld4=1.75 --pld5=2.0   \n",
      "\n",
      "\n",
      "final ak 1.844e-05\n"
     ]
    }
   ],
   "source": [
    "opts = {    \n",
    "    \"repeats\": REPEATS, \n",
    "    \"casl\": True, \n",
    "    \"tau\": TAU,\n",
    "    \"bat\": 1.3, \n",
    "    \"batwm\": 1.6\n",
    "}\n",
    "opts.update({ f'pld{n+1}' : p for n,p in enumerate(plds) })\n",
    "basl,batt = run_basil(asl_spc.make_nifti(data_trans_n), brain_mask, opts, pvs)"
   ]
  },
  {
   "cell_type": "code",
   "execution_count": 148,
   "metadata": {},
   "outputs": [
    {
     "data": {
      "image/png": "[encoded data removed]",
      "text/plain": [
       "<Figure size 432x288 with 1 Axes>"
      ]
     },
     "metadata": {
      "needs_background": "light"
     },
     "output_type": "display_data"
    }
   ],
   "source": [
    "bins = np.arange(0,100,2)\n",
    "plt.hist(basl[gmmask,0], bins)\n",
    "plt.hist(basl[wmmask,1], bins)\n",
    "plt.xlim(0,100)\n",
    "plt.show()"
   ]
  },
  {
   "cell_type": "code",
   "execution_count": 132,
   "metadata": {},
   "outputs": [
    {
     "name": "stdout",
     "output_type": "stream",
     "text": [
      "basil -i basil_out/data.nii.gz -o basil_out/basil_out -m basil_out/mask.nii.gz --optfile=basil_out/basil_opts.txt \n",
      "basil options: --repeats=5 --casl --tau=1.0 --pld1=1.0 --pld2=1.25 --pld3=1.5 --pld4=1.75 --pld5=2.0 --pc=0.98 --t1=1.3 --fcalib=0.01 --bat=1.3   \n",
      "\n",
      "\n",
      "basil -i basil_out/data.nii.gz -o basil_out/basil_out -m basil_out/mask.nii.gz --optfile=basil_out/basil_opts.txt \n",
      "basil options: --repeats=5 --casl --tau=1.0 --pld1=1.0 --pld2=1.25 --pld3=1.5 --pld4=1.75 --pld5=2.0 --pc=0.8 --t1=1.1 --fcalib=0.003 --bat=1.6   \n",
      "\n",
      "\n"
     ]
    }
   ],
   "source": [
    "cbf_pvc_lr, att_pvc_lr = pvec_functions.pvec_lr(asl_spc.make_nifti(data_trans_n), \n",
    "                                                pvs, brain_mask, opts)"
   ]
  },
  {
   "cell_type": "code",
   "execution_count": 133,
   "metadata": {},
   "outputs": [
    {
     "data": {
      "image/png": "[encoded data removed]",
      "text/plain": [
       "<Figure size 432x288 with 1 Axes>"
      ]
     },
     "metadata": {
      "needs_background": "light"
     },
     "output_type": "display_data"
    }
   ],
   "source": [
    "bins = np.arange(0,100,2)\n",
    "plt.hist(cbf_pvc_lr[gmmask,0], bins)\n",
    "plt.hist(cbf_pvc_lr[wmmask,1], bins)\n",
    "plt.xlim(0,100)\n",
    "plt.show()"
   ]
  },
  {
   "cell_type": "code",
   "execution_count": 149,
   "metadata": {},
   "outputs": [
    {
     "name": "stdout",
     "output_type": "stream",
     "text": [
      "basil -i basil_out/data.nii.gz -o basil_out/basil_out -m basil_out/mask.nii.gz --optfile=basil_out/basil_opts.txt  --pgm=basil_out/pvgm.nii.gz --pwm=basil_out/pvwm.nii.gz\n",
      "basil options: --repeats=5 --casl --tau=1.0 --bat=1.3 --batwm=1.6 --pld1=1.0 --pld2=1.25 --pld3=1.5 --pld4=1.75 --pld5=2.0   \n",
      "\n",
      "\n",
      "final ak 0.0179784\n"
     ]
    }
   ],
   "source": [
    "opts = {    \n",
    "    \"repeats\": REPEATS, \n",
    "    \"casl\": True, \n",
    "    \"tau\": TAU,\n",
    "    \"bat\": 1.3, \n",
    "    \"batwm\": 1.6\n",
    "}\n",
    "opts.update({ f'pld{n+1}' : p for n,p in enumerate(plds) })\n",
    "basl,batt = run_basil(asl_spc.make_nifti(data_trans_n), brain_mask, opts, pvs_trans)"
   ]
  },
  {
   "cell_type": "code",
   "execution_count": 150,
   "metadata": {},
   "outputs": [
    {
     "data": {
      "image/png": "[encoded data removed]",
      "text/plain": [
       "<Figure size 432x288 with 1 Axes>"
      ]
     },
     "metadata": {
      "needs_background": "light"
     },
     "output_type": "display_data"
    }
   ],
   "source": [
    "bins = np.arange(0,100,2)\n",
    "plt.hist(basl[gmmask,0], bins)\n",
    "plt.hist(basl[wmmask,1], bins)\n",
    "plt.xlim(0,100)\n",
    "plt.show()"
   ]
  },
  {
   "cell_type": "code",
   "execution_count": 135,
   "metadata": {},
   "outputs": [
    {
     "name": "stdout",
     "output_type": "stream",
     "text": [
      "basil -i basil_out/data.nii.gz -o basil_out/basil_out -m basil_out/mask.nii.gz --optfile=basil_out/basil_opts.txt \n",
      "basil options: --repeats=5 --casl --tau=1.0 --pld1=1.0 --pld2=1.25 --pld3=1.5 --pld4=1.75 --pld5=2.0 --pc=0.98 --t1=1.3 --fcalib=0.01 --bat=1.3   \n",
      "\n",
      "\n",
      "basil -i basil_out/data.nii.gz -o basil_out/basil_out -m basil_out/mask.nii.gz --optfile=basil_out/basil_opts.txt \n",
      "basil options: --repeats=5 --casl --tau=1.0 --pld1=1.0 --pld2=1.25 --pld3=1.5 --pld4=1.75 --pld5=2.0 --pc=0.8 --t1=1.1 --fcalib=0.003 --bat=1.6   \n",
      "\n",
      "\n"
     ]
    }
   ],
   "source": [
    "cbf_pvc_lr, att_pvc_lr = pvec_functions.pvec_lr(asl_spc.make_nifti(data_trans_n), \n",
    "                                                pvs_trans, brain_mask, opts)"
   ]
  },
  {
   "cell_type": "code",
   "execution_count": 136,
   "metadata": {},
   "outputs": [
    {
     "data": {
      "image/png": "[encoded data removed]",
      "text/plain": [
       "<Figure size 432x288 with 1 Axes>"
      ]
     },
     "metadata": {
      "needs_background": "light"
     },
     "output_type": "display_data"
    }
   ],
   "source": [
    "bins = np.arange(0,100,2)\n",
    "plt.hist(cbf_pvc_lr[gmmask,0], bins)\n",
    "plt.hist(cbf_pvc_lr[wmmask,1], bins)\n",
    "plt.xlim(0,100)\n",
    "plt.show()"
   ]
  },
  {
   "cell_type": "code",
   "execution_count": null,
   "metadata": {},
   "outputs": [],
   "source": []
  },
  {
   "cell_type": "code",
   "execution_count": null,
   "metadata": {},
   "outputs": [],
   "source": []
  },
  {
   "cell_type": "code",
   "execution_count": null,
   "metadata": {},
   "outputs": [],
   "source": []
  },
  {
   "cell_type": "code",
   "execution_count": null,
   "metadata": {},
   "outputs": [],
   "source": []
  },
  {
   "cell_type": "code",
   "execution_count": null,
   "metadata": {},
   "outputs": [],
   "source": []
  },
  {
   "cell_type": "code",
   "execution_count": null,
   "metadata": {},
   "outputs": [],
   "source": []
  },
  {
   "cell_type": "code",
   "execution_count": null,
   "metadata": {},
   "outputs": [],
   "source": []
  },
  {
   "cell_type": "code",
   "execution_count": null,
   "metadata": {},
   "outputs": [],
   "source": []
  },
  {
   "cell_type": "code",
   "execution_count": null,
   "metadata": {},
   "outputs": [],
   "source": []
  },
  {
   "cell_type": "code",
   "execution_count": null,
   "metadata": {},
   "outputs": [],
   "source": []
  },
  {
   "cell_type": "markdown",
   "metadata": {},
   "source": [
    "Plot histograms of CBF before and after transformation, and before and after PVEc. As can be seen, we are not able to perfectly recover the original GM / WM CBF values this time around: the distributions have spread around the original values. **This is because interpolation of data that already suffers from PVE introduces an extra confounding effect**, and subsequent PVEc is unable to fully account for this. The confounding effect is seen on the second histogram: after transformation, the distribution of voxels has become even more mixed than before (first histogram), hence why PVEc is not able to perfectly recover the signal. "
   ]
  },
  {
   "cell_type": "code",
   "execution_count": null,
   "metadata": {},
   "outputs": [],
   "source": [
    "fig = get_fig()\n",
    "plt.subplot(1,3,1)\n",
    "plt.hist(cbf[mask_asl], bin_edges)\n",
    "plt.title('CBF before PVEc (original)'); plt.xlabel('CBF')\n",
    "plt.subplot(1,3,2)\n",
    "plt.hist(cbf_trans[mask_trans], bin_edges)\n",
    "plt.title('CBF before PVEc (transformed)'); plt.xlabel('CBF')\n",
    "plt.subplot(1,3,3)\n",
    "plt.hist(cbf_trans_pvec[mask_trans], bin_edges)\n",
    "plt.title('CBF after PVEc, ground truth PVs'); plt.xlabel('CBF')\n",
    "plt.legend(['GM', 'WM'])\n",
    "plt.show()\n",
    "print('Variance: resampled CBF with PVE, ground truth PV estimates', \n",
    "      cbf_trans_pvec[mask_trans].var(0))"
   ]
  },
  {
   "cell_type": "markdown",
   "metadata": {},
   "source": [
    "### PVEc of resampled CBF, with resampled low-res PVs\n",
    "\n",
    "This time the transformation is applied to both the CBF data with PVE, and the ground truth PV estimates at ASL resolution in the original space (as opposed to calculating them from scratch in the transformed space, which is of course unrealistic in the context of most real life situations). We might hope that because the original PV estimates don't suffer from PVE in themselves (because they exist as separate maps for GM and WM, and have not been mixed together in the same way that the CBF data has), we can still get a half-decent correction from them. \n",
    "\n",
    "![](figs/sim_2.png)"
   ]
  },
  {
   "cell_type": "code",
   "execution_count": null,
   "metadata": {},
   "outputs": [],
   "source": [
    "pv_trans_resamp = transform.apply_to_array(pvs_asl, asl_spc, asl_spc)\n",
    "mask_trans_resamp = make_mask(pv_trans_resamp)\n",
    "cbf_trans_pvec_resamp = run_oxasl(asl_trans, brain_mask_trans, pv_trans_resamp)"
   ]
  },
  {
   "cell_type": "markdown",
   "metadata": {},
   "source": [
    "Plots of the difference between the transformed GM PV estimates and the ground truth in the transformed space; a histogram of those voxel-wise GM differences, and finally the CBF histogram after correction. The differences in transformed PVs wrt ground truth can be as large as 15% of voxel volume. Note that the variance of the corrected CBF is large: though this is largely a numerical artefact of the LR PVEc method, this is nevertheless indicative of the challenges faced when performing PVEc in 'real-life' situations. The cause of the high variance is that the system of equations in each neighbourhood can become ill-conditioned after resampling; namely in a voxel that has some CBF and a very small amount of tissue, the implied CBF after correction must be very large (ie, dividing by a small number). The GM CBF histogram does indeed have some values > 60 units, which is *higher* than the original ground truth. Note also on the histogram there seems to be a bi-modal distribution in WM CBF, with a second peak emerging around 30 units: given that the ground truth CBF for WM is 20, this is clearly GM signal that has been misallocated to the WM class during correction. "
   ]
  },
  {
   "cell_type": "code",
   "execution_count": null,
   "metadata": {},
   "outputs": [],
   "source": [
    "fig = get_fig()\n",
    "gm_diffs = (pv_trans_true - pv_trans_resamp)[:,:,mid_slice,0]\n",
    "plt.subplot(1,3,1)\n",
    "plt.imshow(gm_diffs)\n",
    "plt.title('GM PV difference (low-res resampled vs true)')\n",
    "plt.subplot(1,3,2)\n",
    "plt.hist(gm_diffs[mask_trans_resamp[...,mid_slice]])\n",
    "plt.title('GM PV difference histogram'); plt.xlabel('GM PV voxel difference')\n",
    "plt.subplot(1,3,3)\n",
    "plt.hist(cbf_trans_pvec_resamp[mask_trans_resamp], bin_edges)\n",
    "plt.title('CBF histogram after PVEc'); plt.xlabel('CBF')\n",
    "plt.legend(['GM', 'WM'])\n",
    "plt.show()\n",
    "print('Variance: resampled CBF with PVE, resampled ASL resolution PV estimates', \n",
    "      cbf_trans_pvec_resamp[mask_trans_resamp].var(0))"
   ]
  },
  {
   "cell_type": "markdown",
   "metadata": {},
   "source": [
    "### PVEc of resampled CBF, with resampled high-res PVs\n",
    "\n",
    "This setup is more representative of a typical analysis pipeline. We have processed the ASL data in some way (motion correction, registration etc) and transform a set of high resolution PV estimates (ie, FAST operating on the T1 image) into alignment with the ASL to perform PVEc. Because high resolution data naturally has a lower level of PVE, it is expected that resampling has less of a detrimental impact, so we should hopefully get a better correction with it. To start with, we calculate PV estimates in the T1 space (0.75mm isotropic resolution) and then apply the same transformation as before. \n",
    "\n",
    "![](figs/sim_3.png)"
   ]
  },
  {
   "cell_type": "code",
   "execution_count": null,
   "metadata": {},
   "outputs": [],
   "source": [
    "t1_pvs = calc_sphere_pvs(sph_cent, R_g, R_w, t1_spc, 5)\n",
    "t1_pvs_trans = transform.apply_to_array(t1_pvs, t1_spc, t1_spc)\n",
    "t1_pvs_trans = (rt.application_helpers.sum_array_blocks(t1_pvs_trans, 3*[t1_factor] + [1]) \n",
    "                / (t1_factor ** 3))\n",
    "t1_mask_trans = make_mask(t1_pvs_trans)\n",
    "cbf_trans_pvec_resamp_high = run_oxasl(asl_trans, brain_mask_trans, t1_pvs_trans)"
   ]
  },
  {
   "cell_type": "markdown",
   "metadata": {},
   "source": [
    "Plots of the GM PV difference between resampled high res PVs and ground truth; a histogram of GM PV differences; and the CBF histogram after PVEc. As expected, the voxel-wise differences in GM PV are much smaller than when resampling with low-res PV estimates, leading to a better correction. Notably, the variance in corrected is much smaller - closer to the case when using the ground truth PV estimates - and the distributions themselves are much closer to what we expect. There is no second mode in WM, there are no GM values > 60. "
   ]
  },
  {
   "cell_type": "code",
   "execution_count": null,
   "metadata": {},
   "outputs": [],
   "source": [
    "fig = get_fig()\n",
    "gm_diffs = (pv_trans_true - t1_pvs_trans)[:,:,mid_slice,0]\n",
    "plt.subplot(1,3,1)\n",
    "plt.imshow(gm_diffs)\n",
    "plt.title('GM PV difference (high-res resampled vs true)')\n",
    "plt.subplot(1,3,2)\n",
    "plt.hist(gm_diffs[t1_mask_trans[...,mid_slice]])\n",
    "plt.title('GM PV difference histogram'); plt.xlabel('GM PV voxel difference')\n",
    "plt.subplot(1,3,3)\n",
    "plt.hist(cbf_trans_pvec_resamp_high[t1_mask_trans], bin_edges)\n",
    "plt.title('CBF histogram after PVEc'); plt.xlabel('CBF')\n",
    "plt.legend(['GM', 'WM'])\n",
    "plt.show()\n",
    "print('Variance: resampled CBF with PVE, high-res resampled PVs', \n",
    "      cbf_trans_pvec_resamp_high[t1_mask_trans].var(0))"
   ]
  },
  {
   "cell_type": "markdown",
   "metadata": {},
   "source": [
    "### PVEc of native CBF, with resampled high-res PVs\n",
    "\n",
    "All the examples so far have investigated the behvaiour of PVEc on CBF data that has been resampled in some way. We now generate a new CBF map in the transformed space using the ground truth PV estimates calculated natively in this space. As before, we assume constant CBF of 60 and 20 in GM and WM respectively. We then perform PVEc of this new CBF data using resampled high-res PV estimates *transformed* into alignment with the new CBF. This represents the ideal case where no processing at all is done to the CBF data and only high-resolution data is resampled. \n",
    "\n",
    "![](figs/sim_4.png)"
   ]
  },
  {
   "cell_type": "code",
   "execution_count": null,
   "metadata": {},
   "outputs": [],
   "source": [
    "asl2_trans = ((get_fabber_data(GM_CBF, GM_BAT, asl_spc.size) * pv_trans_true[...,0,None]) \n",
    "      + ((get_fabber_data(WM_CBF, WM_BAT, asl_spc.size) * pv_trans_true[...,1,None])))\n",
    "cbf2_trans = run_oxasl(asl2_trans)\n",
    "cbf2_trans_pvec = run_oxasl(asl2_trans, t1_pvs_trans)"
   ]
  },
  {
   "cell_type": "markdown",
   "metadata": {},
   "source": [
    "Plot histograms to compare the case of a) PVEc on resampled CBF data, ground truth native space PV estimates, and b) PVEc on native space CBF, with resampled PV estimates. As can be seen from the histograms, and the variances of the corrected CBFs, it is much better to **transform high-res data into alignment with low-res** than vice-versa. "
   ]
  },
  {
   "cell_type": "code",
   "execution_count": null,
   "metadata": {
    "jupyter": {
     "source_hidden": true
    }
   },
   "outputs": [],
   "source": [
    "fig = get_fig()\n",
    "plt.subplot(1,2,1)\n",
    "plt.hist(cbf_trans_pvec[t1_mask_trans], bin_edges); plt.xlabel('CBF')\n",
    "plt.title('CBF histogram after PVEc\\nresampled CBF with PVE, native PV estimates')\n",
    "plt.subplot(1,2,2)\n",
    "plt.hist(cbf2_trans_pvec[t1_mask_trans], bin_edges); plt.xlabel('CBF')\n",
    "plt.title('CBF histogram after PVEc\\nnative CBF with PVE, resampled PV estimates')\n",
    "plt.legend(['GM', 'WM'])\n",
    "plt.show()\n",
    "print('Variance: resampled CBF with PVE, native PV estimates', \n",
    "      cbf_trans_pvec[t1_mask_trans].var(0))\n",
    "print('Variance: native CBF with PVE, resampled PV estimates', \n",
    "      cbf2_trans_pvec[t1_mask_trans].var(0))"
   ]
  },
  {
   "cell_type": "markdown",
   "metadata": {},
   "source": [
    "### Resample CBF *after* PVEc (1/2)\n",
    "\n",
    "What if you really need to transform your CBF data into alignment with something else (repeat acquisitions, other subjects)? It might be better to do the transformation *after* having done PVEc in the native space of the data, as then you will be transforming separate GM / WM CBF maps, and not some mixture of the two. Here, we transform the PVEc CBF map in the original space into the transformed space, and compare the results with the ground truth PVEc map that we have calculated in the transformed space. \n",
    "\n",
    "![](figs/sim_5.png)"
   ]
  },
  {
   "cell_type": "code",
   "execution_count": null,
   "metadata": {
    "jupyter": {
     "source_hidden": true
    }
   },
   "outputs": [],
   "source": [
    "cbf_wm_trans = transform.apply_to_array(cbf_pvec[...,1], asl_spc, asl_spc)\n",
    "cbf_gm_trans = transform.apply_to_array(cbf_pvec[...,0], asl_spc, asl_spc)"
   ]
  },
  {
   "cell_type": "code",
   "execution_count": null,
   "metadata": {
    "jupyter": {
     "source_hidden": true
    }
   },
   "outputs": [],
   "source": [
    "fig = get_fig()\n",
    "plt.subplot(1,3,1)\n",
    "plt.imshow(cbf_pvec[...,mid_slice,1])\n",
    "plt.title('PVEc WM CBF map, original space')\n",
    "plt.subplot(1,3,2)\n",
    "plt.imshow(cbf_pvec[...,mid_slice,0])\n",
    "plt.title('PVEc GM CBF map, original space')\n",
    "plt.subplot(1,3,3)\n",
    "plt.imshow(cbf_gm_trans[...,mid_slice])\n",
    "plt.title('PVEc GM CBF map, transformed space')\n",
    "plt.show()"
   ]
  },
  {
   "cell_type": "markdown",
   "metadata": {},
   "source": [
    "Plot the PVEc CBF values after transformation, and compare with the results obtained by performing PVEc on the transformed CBF data with high-res PV estimates. Perhaps surprisingly, this variant performs very badly, likely due to the issues of transforming sharp edges on the PVEc CBF maps (see the transformed PVEc GM CBF map above, a lot of edge signal simply goes 'missing'). As a result, there is signifcant spreading out of signal, particularly in GM. "
   ]
  },
  {
   "cell_type": "code",
   "execution_count": null,
   "metadata": {
    "jupyter": {
     "source_hidden": true
    }
   },
   "outputs": [],
   "source": [
    "fig = get_fig()\n",
    "plt.subplot(1,2,1)\n",
    "plt.hist(cbf_trans_pvec_resamp_high[t1_mask_trans], bin_edges)\n",
    "plt.title('CBF histogram after PVEc\\nresampled CBF, resampled high res PVs'); plt.xlabel('CBF')\n",
    "plt.subplot(1,2,2)\n",
    "hist = np.array([cbf_gm_trans[mask_trans], cbf_wm_trans[mask_trans]])\n",
    "plt.hist(hist.T, bin_edges)\n",
    "plt.title('CBF histogram after resampling PVEc output CBF'); plt.xlabel('CBF')\n",
    "plt.legend(['GM', 'WM'])\n",
    "plt.show()\n",
    "print('Variance: resample CBF after PVEc', \n",
    "      cbf_gm_trans[mask_trans].var(), cbf_wm_trans[mask_trans].var())"
   ]
  },
  {
   "cell_type": "markdown",
   "metadata": {},
   "source": [
    "## Double resampled PVs "
   ]
  },
  {
   "cell_type": "code",
   "execution_count": null,
   "metadata": {},
   "outputs": [],
   "source": [
    "pv_trans_true_native = transform.apply_to_array(pv_trans_true, asl_spc, asl_spc)\n",
    "pv_trans_true_double = transform.inverse().apply_to_array(pv_trans_true_native, asl_spc, asl_spc)"
   ]
  },
  {
   "cell_type": "code",
   "execution_count": null,
   "metadata": {},
   "outputs": [],
   "source": []
  },
  {
   "cell_type": "code",
   "execution_count": null,
   "metadata": {},
   "outputs": [],
   "source": []
  },
  {
   "cell_type": "code",
   "execution_count": null,
   "metadata": {},
   "outputs": [],
   "source": []
  },
  {
   "cell_type": "code",
   "execution_count": null,
   "metadata": {},
   "outputs": [],
   "source": []
  },
  {
   "cell_type": "code",
   "execution_count": null,
   "metadata": {},
   "outputs": [],
   "source": [
    "fig = get_fig()\n",
    "xy = 100 * np.array([\n",
    "    cbf_trans_pvec[mask_trans].std(0),\n",
    "    cbf_trans_pvec_resamp[mask_trans].std(0),\n",
    "    cbf_trans_pvec_resamp_high[t1_mask_trans].std(0),\n",
    "    cbf2_trans_pvec[t1_mask_trans].std(0), \n",
    "    [cbf_gm_trans[mask_trans].std(), \n",
    "     cbf_wm_trans[mask_trans].std()],\n",
    "]) / np.array([GM_CBF, WM_CBF])[None,:]\n",
    "\n",
    "for idx, title in enumerate([\n",
    "    'Resamp CBF, ground truth PV', \n",
    "    'Resamp CBF, resamp low-res PV', \n",
    "    'Resamp CBF, resamp high-res PV', \n",
    "    'Native CBF, resamp high-res PV', \n",
    "    'Resamp after PVEc', \n",
    "]):\n",
    "    plt.scatter(*xy[idx,:], s=50, label=title)\n",
    "plt.legend()\n",
    "plt.xlabel(r\"$\\sigma$ (GM CBF) [normalised %]\")\n",
    "plt.ylabel(r\"$\\sigma$ (WM CBF) [normalised %]\")\n",
    "plt.title('Standard deviation in PVEc CBF')\n",
    "plt.show()"
   ]
  },
  {
   "cell_type": "markdown",
   "metadata": {},
   "source": [
    "## Discussion \n",
    "\n",
    "Simulations demonstrate the PVE do indeed negatively impact the CoV for repeat data that is to be analysed in a common space. However, it is difficult to separate out the effect of resampling and interpolation from this. In order to get data into a common space in which CoV can be calculated, one must resample the separate acquisitions, and simulations on the spherical test case have shown that this in itself introduces insurmountable confounding effects. All in all, resampling and interpolation of data that contains PVE introduces extra mixing that even the most 'perfect' PVEc (ie, ground truth PV estimates, valid simplifying assumptions of constant CBF in regression kernels) is unable to overcome. \n",
    "\n",
    "Some general implications: \n",
    "1. At all costs, avoid registering / interpolating / resampling data that has been corrputed with PVE. This is because interpolation acts as a confounding effect on top of PVE \n",
    "2. If you need to register / interpolate / resample, try and restrict it to data that doesn't have significant PVE (structural data etc)\n",
    "3. The confounding effect of interpolation is very much dependent on the ratio of voxel resolutions in question. In short, going from fine to coarse resolution is much better than coarse to fine, or even coarse to coarse. \n",
    "4. Region-based analysis should be fairly immune to these problems (in the limit, you can think of this approach as being equivalent to resampling a CBF map onto an exceptionally blocky voxel grid, where each output 'voxel' corresponds to a structure that contains dozens of input voxels. \n",
    "\n",
    "This analysis was restricted to PVE voxels so perhaps it is excessively pessimisitic. For example, if any pure GM and WM voxels survive the transformation step, they could be used to aid the process of PVEc? This is somewhat moot. Firslty, at 3mm resolution, very few voxels are genuinely pure (see the analysis mask above). Secondly, though the analysis was restricted to PVE voxels, the correction method was not: the regression kernel includes all neighbours, regardless of their PVs. So, in effect, we are already using neighbourhood information to constrain the PVEc process, with the smoothing penalty this imposes. We could increase the size of the regression kernel (use more neighbours), but this would add even more smoothing and therefore may be cheating our way towards improved CoV. "
   ]
  }
 ],
 "metadata": {
  "kernelspec": {
   "display_name": "Python [conda env:svb]",
   "language": "python",
   "name": "conda-env-svb-py"
  },
  "language_info": {
   "codemirror_mode": {
    "name": "ipython",
    "version": 3
   },
   "file_extension": ".py",
   "mimetype": "text/x-python",
   "name": "python",
   "nbconvert_exporter": "python",
   "pygments_lexer": "ipython3",
   "version": "3.8.5"
  }
 },
 "nbformat": 4,
 "nbformat_minor": 4
}
