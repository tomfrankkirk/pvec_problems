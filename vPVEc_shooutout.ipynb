{
 "cells": [
  {
   "cell_type": "code",
   "execution_count": 1,
   "metadata": {},
   "outputs": [
    {
     "name": "stdout",
     "output_type": "stream",
     "text": [
      "WARNING:tensorflow:From /usr/local/anaconda3/envs/svb/lib/python3.8/site-packages/tensorflow/python/compat/v2_compat.py:96: disable_resource_variables (from tensorflow.python.ops.variable_scope) is deprecated and will be removed in a future version.\n",
      "Instructions for updating:\n",
      "non-resource variables are not supported in the long term\n"
     ]
    }
   ],
   "source": [
    "%load_ext autoreload\n",
    "%autoreload 2\n",
    "import numpy as np \n",
    "import sys \n",
    "import regtricks as rt \n",
    "import matplotlib.pyplot as plt\n",
    "\n",
    "try:\n",
    "    import tensorflow.compat.v1 as tf\n",
    "    tf.disable_v2_behavior()\n",
    "except ImportError:\n",
    "    import tensorflow as tf\n",
    "from svb.main import run \n",
    "from svb_models_asl import AslRestModel \n",
    "from svb.data import VolumetricModel\n",
    "from svb_models_asl import AslRestModel "
   ]
  },
  {
   "cell_type": "markdown",
   "metadata": {},
   "source": [
    "# Single PLD data, no PVE "
   ]
  },
  {
   "cell_type": "code",
   "execution_count": 2,
   "metadata": {},
   "outputs": [],
   "source": [
    "plds = [1.8]\n",
    "repeats = 5\n",
    "CBF = 60 \n",
    "ATT = 1.3\n",
    "bins = np.arange(10,70,2)"
   ]
  },
  {
   "cell_type": "code",
   "execution_count": 3,
   "metadata": {},
   "outputs": [
    {
     "name": "stdout",
     "output_type": "stream",
     "text": [
      "35.723766\n"
     ]
    }
   ],
   "source": [
    "spc = rt.ImageSpace.create_axis_aligned([0,0,0], [5,5,5], [1,1,1])\n",
    "data = np.zeros((*spc.size, repeats))\n",
    "asl_model = AslRestModel(\n",
    "        VolumetricModel(spc.make_nifti(data)), \n",
    "        plds=plds, casl=True, repeats=repeats)\n",
    "\n",
    "tpts = asl_model.tpts()\n",
    "with tf.Session() as sess:\n",
    "    ones = np.ones([spc.size.prod(), 1], dtype=np.float32)\n",
    "    sasl = sess.run(asl_model.evaluate([CBF * ones, ATT * ones], tpts))\n",
    "\n",
    "sasl = sasl.reshape(*spc.size, tpts.shape[-1])\n",
    "print(sasl.max())"
   ]
  },
  {
   "cell_type": "code",
   "execution_count": 4,
   "metadata": {},
   "outputs": [
    {
     "name": "stdout",
     "output_type": "stream",
     "text": [
      "INFO : SVB 0.0.2.post163\n",
      "INFO : Model: ASL resting state model: 0.0.1.post29\n",
      "INFO :  - Bolus duration: 1.8\n",
      "INFO :  - Data is CASL/pCASL: True\n",
      "INFO :  - Inversion times: [3.6]\n",
      "INFO :  - Post-labelling delays (for CASL instead of TIs): [1.8]\n",
      "INFO :  - Number of repeats - single value or one per TI/PLD: 5\n",
      "INFO :  - Increase in TI/PLD per slice: 0\n",
      "INFO :  - Tissue T1 value: array of shape (125,), mean 1.3\n",
      "INFO :  - Bolus arrival time: 1.3\n",
      "INFO :  - Bolus arrival time prior std.dev.: 0.001\n",
      "INFO :  - Perfusion value to use in estimation of effective T1: array of shape (125,), mean 0.01\n",
      "INFO :  - Blood/tissue partition coefficient. If only inferring on one tissue, default is 0.9; if inferring on both GM/WM default is 0.98/0.8 respectively. See --pcwm: array of shape (125,), mean 0.9\n",
      "INFO :  - Include WM parameters: False\n",
      "INFO :  - WM perfusion: 0\n",
      "INFO :  - WM arterial transit time: 1.6\n",
      "INFO :  - WM T1 value: 1.1\n",
      "INFO :  - WM parition coefficient. See --pc: 0.8\n",
      "INFO :  - WM perfusion value to use in estimation of effective T1: 0.003\n",
      "INFO :  - Blood T1 value: 1.65\n",
      "INFO :  - Arterial bolus arrival time: 1.0\n",
      "INFO :  - Arterial bolus arrival time prior std.dev.: 0.001\n",
      "INFO :  - Only infer arterial component not tissue: None\n",
      "INFO :  - Infer arterial component: None\n",
      "INFO :  - Infer T1 value: None\n",
      "INFO :  - Initialization method for ATT (max=max signal - bolus duration): \n",
      "INFO :  - Perform PVEc (shortcut for incwm, inferwm): False\n",
      "INFO :  - Infer WM parameters: False\n",
      "INFO :  - GM partial volume: array of shape (125,), mean 1\n",
      "INFO :  - WM partial volume: 0.0\n",
      "INFO : Setting up prior and posterior\n",
      "INFO :  - Not inferring covariances between parameters\n",
      "INFO :  - Using numerical calculation of latent loss\n",
      "INFO :  - Parameter: ftiss\n",
      "INFO :    - Prior: Gaussian (1.500000, 1000000.000000) Non-spatial prior (1.500000, 1000000.000000)\n",
      "INFO :    - Posterior: Gaussian (1.500000, 1.500000) voxelwise posterior\n",
      "INFO :  - Parameter: delttiss\n",
      "INFO :    - Prior: Gaussian (1.300000, 0.000001) Non-spatial prior (1.300000, 0.000001)\n",
      "INFO :    - Posterior: Gaussian (1.300000, 0.000001) voxelwise posterior\n",
      "INFO :  - Noise\n",
      "INFO :    - Prior: Log-Normal (1.000000, 200000.000000) Non-spatial prior (0.000000, 12.206073)\n",
      "INFO :    - Posterior: Log-Normal (1.000000, 1.020000) voxelwise posterior\n",
      "WARNING : From /usr/local/anaconda3/envs/svb/lib/python3.8/site-packages/tensorflow/python/training/slot_creator.py:200: Variable.initialized_value (from tensorflow.python.ops.variables) is deprecated and will be removed in a future version.\n",
      "Instructions for updating:\n",
      "Use Variable.read_value. Variables in 2.X are initialized automatically both in eager and graph (inside tf.defun) contexts.\n",
      "INFO : Starting inference...\n",
      "INFO :  - Number of training epochs: 1000\n",
      "INFO :  - 125 voxels of 5 time points (processed in 1 batches of target size 5)\n",
      "INFO :  - Initial learning rate: 0.50000 (decay rate 1.000)\n",
      "INFO :  - Initial sample size: 5 (increase factor 1.000)\n",
      "INFO :  - Posterior reversion after 50 trials\n",
      "INFO :  - Start 0000: mean cost 537.6 (latent 10.45, reconstr 526.5)\n",
      "          Volume: param means [35.724  1.3  ], param vars [1.5e+00 1.0e-06]\n",
      "          Noise mean/var [1.   1.02]\n",
      "INFO :  - Epoch 0500: mean/median cost 10.82/9.89, (latent 11.04, reconstr -0.2212)\n",
      "          Volume: param means [60.095  1.3  ], param vars [2.080e-01 9.856e-07]\n",
      "          noise mean/var [0.655 4.964], ak 0, lr 0.5, ss 5 - Trial 4\n",
      "INFO :  - End of inference. \n",
      "INFO :  - Reverting to best batch-averaged cost\n",
      "INFO :    Best batch-averaged cost: 6.718\n",
      "          Final parameter means: [59.852  1.3  ] in volume\n",
      "          Final noise variance in volume: 0.6896\n",
      "INFO : DONE: 4.887s\n",
      "INFO : Output written to: vol_demo\n"
     ]
    }
   ],
   "source": [
    "options = {\n",
    "    \"learning_rate\" : 0.5,\n",
    "    \"batch_size\" : 5,\n",
    "    \"sample_size\" : 5,\n",
    "    \"epochs\" : 1000,\n",
    "    \"log_stream\" : sys.stdout,\n",
    "    \"display_step\": 500,  \n",
    "    \"prior_type\": \"N\",\n",
    "    \n",
    "    \"plds\": plds, \n",
    "    \"repeats\": repeats, \n",
    "    \"casl\": True, \n",
    "    \"attsd\": 0.001,\n",
    "}\n",
    "\n",
    "runtime, svb, training_history = run(\n",
    "    spc.make_nifti(sasl), \"aslrest\",\n",
    "    \"vol_demo\", \n",
    "    **options)\n",
    "\n",
    "means = svb.evaluate(svb.model_means)\n",
    "gm_cbf = means[0]\n",
    "att = means[1]"
   ]
  },
  {
   "cell_type": "code",
   "execution_count": 5,
   "metadata": {},
   "outputs": [
    {
     "name": "stdout",
     "output_type": "stream",
     "text": [
      "59.8521\n"
     ]
    },
    {
     "data": {
      "image/png": "[encoded data removed]",
      "text/plain": [
       "<Figure size 432x288 with 2 Axes>"
      ]
     },
     "metadata": {
      "needs_background": "light"
     },
     "output_type": "display_data"
    }
   ],
   "source": [
    "plt.subplot(1,2,1)\n",
    "plt.hist(gm_cbf, 20)\n",
    "plt.subplot(1,2,2)\n",
    "plt.hist(att, 20)\n",
    "print(gm_cbf.mean())"
   ]
  },
  {
   "cell_type": "code",
   "execution_count": 6,
   "metadata": {},
   "outputs": [
    {
     "name": "stdout",
     "output_type": "stream",
     "text": [
      "INFO : SVB 0.0.2.post163\n",
      "INFO : Model: ASL resting state model: 0.0.1.post29\n",
      "INFO :  - Bolus duration: 1.8\n",
      "INFO :  - Data is CASL/pCASL: True\n",
      "INFO :  - Inversion times: [3.6]\n",
      "INFO :  - Post-labelling delays (for CASL instead of TIs): [1.8]\n",
      "INFO :  - Number of repeats - single value or one per TI/PLD: 5\n",
      "INFO :  - Increase in TI/PLD per slice: 0\n",
      "INFO :  - Tissue T1 value: array of shape (125,), mean 1.3\n",
      "INFO :  - Bolus arrival time: 1.3\n",
      "INFO :  - Bolus arrival time prior std.dev.: 0.001\n",
      "INFO :  - Perfusion value to use in estimation of effective T1: array of shape (125,), mean 0.01\n",
      "INFO :  - Blood/tissue partition coefficient. If only inferring on one tissue, default is 0.9; if inferring on both GM/WM default is 0.98/0.8 respectively. See --pcwm: array of shape (125,), mean 0.9\n",
      "INFO :  - Include WM parameters: False\n",
      "INFO :  - WM perfusion: 0\n",
      "INFO :  - WM arterial transit time: 1.6\n",
      "INFO :  - WM T1 value: 1.1\n",
      "INFO :  - WM parition coefficient. See --pc: 0.8\n",
      "INFO :  - WM perfusion value to use in estimation of effective T1: 0.003\n",
      "INFO :  - Blood T1 value: 1.65\n",
      "INFO :  - Arterial bolus arrival time: 1.0\n",
      "INFO :  - Arterial bolus arrival time prior std.dev.: 0.001\n",
      "INFO :  - Only infer arterial component not tissue: None\n",
      "INFO :  - Infer arterial component: None\n",
      "INFO :  - Infer T1 value: None\n",
      "INFO :  - Initialization method for ATT (max=max signal - bolus duration): \n",
      "INFO :  - Perform PVEc (shortcut for incwm, inferwm): False\n",
      "INFO :  - Infer WM parameters: False\n",
      "INFO :  - GM partial volume: array of shape (125,), mean 1\n",
      "INFO :  - WM partial volume: 0.0\n",
      "INFO : Setting up prior and posterior\n",
      "INFO :  - Not inferring covariances between parameters\n",
      "INFO :  - Using numerical calculation of latent loss\n",
      "INFO :  - Parameter: ftiss\n",
      "INFO :    - Prior: Gaussian (1.500000, 1000000.000000) MRF spatial prior\n",
      "INFO :    - Posterior: Gaussian (1.500000, 1.500000) voxelwise posterior\n",
      "INFO :  - Parameter: delttiss\n",
      "INFO :    - Prior: Gaussian (1.300000, 0.000001) Non-spatial prior (1.300000, 0.000001)\n",
      "INFO :    - Posterior: Gaussian (1.300000, 0.000001) voxelwise posterior\n",
      "INFO :  - Noise\n",
      "INFO :    - Prior: Log-Normal (1.000000, 200000.000000) Non-spatial prior (0.000000, 12.206073)\n",
      "INFO :    - Posterior: Log-Normal (1.000000, 1.020000) voxelwise posterior\n",
      "INFO : Starting inference...\n",
      "INFO :  - Number of training epochs: 1000\n",
      "INFO :  - 125 voxels of 5 time points (processed in 1 batches of target size 5)\n",
      "INFO :  - Initial learning rate: 0.50000 (decay rate 1.000)\n",
      "INFO :  - Initial sample size: 5 (increase factor 1.000)\n",
      "INFO :  - Posterior reversion after 50 trials\n",
      "INFO :  - Start 0000: mean cost 546.9 (latent 22.79, reconstr 526.8)\n",
      "          Volume: param means [35.724  1.3  ], param vars [1.5e+00 1.0e-06]\n",
      "          Noise mean/var [1.   1.02]\n",
      "INFO :  - Epoch 0500: mean/median cost 3.995/2.079, (latent 6.139, reconstr -2.144)\n",
      "          Volume: param means [59.953  1.3  ], param vars [7.406e-02 9.997e-07]\n",
      "          noise mean/var [2.887 2.095], ak 0.2981, lr 0.5, ss 5 - Trial 1\n",
      "INFO :  - End of inference. \n",
      "INFO :  - Reverting to best batch-averaged cost\n",
      "INFO :    Best batch-averaged cost: -1.856\n",
      "          Final parameter means: [59.999  1.3  ] in volume\n",
      "          Final noise variance in volume: 0.7013\n",
      "INFO : DONE: 5.369s\n",
      "INFO : Output written to: vol_demo\n"
     ]
    }
   ],
   "source": [
    "options = {\n",
    "    \"learning_rate\" : 0.5,\n",
    "    \"batch_size\" : 5,\n",
    "    \"sample_size\" : 5,\n",
    "    \"epochs\" : 1000,\n",
    "    \"log_stream\" : sys.stdout,\n",
    "    \"display_step\": 500,  \n",
    "    \"infer_ak\": True,\n",
    "    \"ak\": 5,\n",
    "    \n",
    "    \"plds\": plds, \n",
    "    \"repeats\": repeats, \n",
    "    \"casl\": True, \n",
    "    \"attsd\": 0.001,\n",
    "    \n",
    "    \"param_overrides\" : {\n",
    "        \"ftiss\" : {\n",
    "            \"prior_type\" : \"M\"\n",
    "        }\n",
    "    }\n",
    "}\n",
    "\n",
    "runtime, svb, training_history = run(\n",
    "    spc.make_nifti(sasl), \"aslrest\",\n",
    "    \"vol_demo\", \n",
    "    **options)\n",
    "\n",
    "means = svb.evaluate(svb.model_means)\n",
    "gm_cbf = means[0]\n",
    "att = means[1]"
   ]
  },
  {
   "cell_type": "code",
   "execution_count": 7,
   "metadata": {},
   "outputs": [
    {
     "name": "stdout",
     "output_type": "stream",
     "text": [
      "59.999184 0.006739107\n"
     ]
    },
    {
     "data": {
      "image/png": "[encoded data removed]",
      "text/plain": [
       "<Figure size 432x288 with 2 Axes>"
      ]
     },
     "metadata": {
      "needs_background": "light"
     },
     "output_type": "display_data"
    }
   ],
   "source": [
    "plt.subplot(1,2,1)\n",
    "plt.hist(gm_cbf, 20)\n",
    "plt.subplot(1,2,2)\n",
    "plt.hist(att, 20)\n",
    "print(gm_cbf.mean(), gm_cbf.var())"
   ]
  },
  {
   "cell_type": "code",
   "execution_count": null,
   "metadata": {},
   "outputs": [],
   "source": []
  }
 ],
 "metadata": {
  "kernelspec": {
   "display_name": "Python [conda env:svb]",
   "language": "python",
   "name": "conda-env-svb-py"
  },
  "language_info": {
   "codemirror_mode": {
    "name": "ipython",
    "version": 3
   },
   "file_extension": ".py",
   "mimetype": "text/x-python",
   "name": "python",
   "nbconvert_exporter": "python",
   "pygments_lexer": "ipython3",
   "version": "3.8.5"
  }
 },
 "nbformat": 4,
 "nbformat_minor": 4
}
