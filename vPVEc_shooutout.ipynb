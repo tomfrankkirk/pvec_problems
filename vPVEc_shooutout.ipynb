{
 "cells": [
  {
   "cell_type": "code",
   "execution_count": 1,
   "metadata": {},
   "outputs": [
    {
     "name": "stdout",
     "output_type": "stream",
     "text": [
      "WARNING:tensorflow:From /usr/local/anaconda3/envs/svb/lib/python3.8/site-packages/tensorflow/python/compat/v2_compat.py:96: disable_resource_variables (from tensorflow.python.ops.variable_scope) is deprecated and will be removed in a future version.\n",
      "Instructions for updating:\n",
      "non-resource variables are not supported in the long term\n"
     ]
    }
   ],
   "source": [
    "%load_ext autoreload\n",
    "%autoreload 2\n",
    "import numpy as np \n",
    "import sys \n",
    "import regtricks as rt \n",
    "import matplotlib.pyplot as plt\n",
    "from fabber_funcs import run_basil \n",
    "from pvec_functions import calc_sphere_pvs\n",
    "\n",
    "try:\n",
    "    import tensorflow.compat.v1 as tf\n",
    "    tf.disable_v2_behavior()\n",
    "except ImportError:\n",
    "    import tensorflow as tf\n",
    "from svb.main import run \n",
    "from svb_models_asl import AslRestModel \n",
    "from svb.data import VolumetricModel\n",
    "from svb_models_asl import AslRestModel "
   ]
  },
  {
   "cell_type": "markdown",
   "metadata": {},
   "source": [
    "## SVB optimisation parameters \n",
    "It seems slow and long is the best way to go on the following simulations. LR that are too high can lead to excessively large steps being taken around either side of the true solution. LR around 0.1 and 0.05 with 4000 epochs, 5 samples seems to be a safe compromise. "
   ]
  },
  {
   "cell_type": "markdown",
   "metadata": {},
   "source": [
    "## Constants across all tests "
   ]
  },
  {
   "cell_type": "code",
   "execution_count": 2,
   "metadata": {},
   "outputs": [],
   "source": [
    "CBF = [60, 20]\n",
    "ATT = [1.3, 1.6]\n",
    "TAU = 1.0\n",
    "REPEATS = 5 "
   ]
  },
  {
   "cell_type": "markdown",
   "metadata": {},
   "source": [
    "## Single PLD data, no PVE\n",
    "\n",
    "GM component only, across a 5x5x5 block of homogenous voxels. 5 repeats, no noise. Infer CBF only with M prior. "
   ]
  },
  {
   "cell_type": "code",
   "execution_count": 3,
   "metadata": {},
   "outputs": [],
   "source": [
    "plds = [0.8]\n",
    "spc = rt.ImageSpace.create_axis_aligned([0,0,0], [5,5,5], [1,1,1])\n",
    "\n",
    "data = np.zeros((*spc.size, REPEATS))\n",
    "asl_model = AslRestModel(\n",
    "        VolumetricModel(spc.make_nifti(data)), \n",
    "        plds=plds, casl=True, repeats=REPEATS, tau=TAU, att=ATT[0])\n",
    "\n",
    "tpts = asl_model.tpts()\n",
    "with tf.Session() as sess:\n",
    "    ones = np.ones([spc.size.prod(), 1], dtype=np.float32)\n",
    "    data = sess.run(asl_model.evaluate([CBF[0] * ones], tpts))\n",
    "\n",
    "data = data.reshape(*spc.size, tpts.shape[-1])"
   ]
  },
  {
   "cell_type": "markdown",
   "metadata": {},
   "source": [
    "The speed at which this solution converges is astonishingly slow - slower than all other cases, even though this is the simplest setup! Note by speed I don't mean runtime, I mean convergence between epochs. It takes >3k epochs to get there, whereas others take ~2k. "
   ]
  },
  {
   "cell_type": "code",
   "execution_count": 4,
   "metadata": {},
   "outputs": [
    {
     "name": "stdout",
     "output_type": "stream",
     "text": [
      "INFO : SVB 0.0.2.post163\n",
      "INFO : Model: ASL resting state model: 0.0.1.post31\n",
      "INFO :  - Bolus duration: 1.0\n",
      "INFO :  - Data is CASL/pCASL: True\n",
      "INFO :  - Inversion times: [1.8]\n",
      "INFO :  - Post-labelling delays (for CASL instead of TIs): [0.8]\n",
      "INFO :  - Number of repeats - single value or one per TI/PLD: 5\n",
      "INFO :  - Increase in TI/PLD per slice: 0\n",
      "INFO :  - Tissue T1 value: array of shape (125,), mean 1.3000000715255737\n",
      "INFO :  - Bolus arrival time: array of shape (125,), mean 1.3000000715255737\n",
      "INFO :  - Bolus arrival time prior std.dev.: 0.1\n",
      "INFO :  - Perfusion value to use in estimation of effective T1: array of shape (125,), mean 0.009999998845160007\n",
      "INFO :  - Blood/tissue partition coefficient. If only inferring on one tissue, default is 0.9; if inferring on both GM/WM default is 0.98/0.8 respectively. See --pcwm: array of shape (125,), mean 0.8999999165534973\n",
      "INFO :  - Include WM parameters: False\n",
      "INFO :  - WM perfusion: 0\n",
      "INFO :  - WM arterial transit time: 1.6\n",
      "INFO :  - WM T1 value: 1.1\n",
      "INFO :  - WM parition coefficient. See --pc: 0.8\n",
      "INFO :  - WM perfusion value to use in estimation of effective T1: 0.003\n",
      "INFO :  - Blood T1 value: 1.65\n",
      "INFO :  - Arterial bolus arrival time: 1.0\n",
      "INFO :  - Arterial bolus arrival time prior std.dev.: 0.1\n",
      "INFO :  - Only infer arterial component not tissue: None\n",
      "INFO :  - Infer arterial component: None\n",
      "INFO :  - Infer T1 value: None\n",
      "INFO :  - Initialization method for ATT (max=max signal - bolus duration): \n",
      "INFO :  - Perform PVEc (shortcut for incwm, inferwm): False\n",
      "INFO :  - Infer WM parameters: False\n",
      "INFO :  - GM partial volume: array of shape (125,), mean 1.0\n",
      "INFO :  - WM partial volume: 0.0\n",
      "INFO : Setting up prior and posterior\n",
      "INFO :  - Not inferring covariances between parameters\n",
      "INFO :  - Using numerical calculation of latent loss\n",
      "INFO :  - Parameter: ftiss\n",
      "INFO :    - Prior: Gaussian (1.500000, 1000000.000000) MRF spatial prior\n",
      "INFO :    - Posterior: Gaussian (1.500000, 1.500000) voxelwise posterior\n",
      "INFO :  - Noise\n",
      "INFO :    - Prior: Log-Normal (1.000000, 200000.000000) Non-spatial prior (0.000000, 12.206073)\n",
      "INFO :    - Posterior: Log-Normal (1.000000, 1.020000) voxelwise posterior\n",
      "WARNING : From /usr/local/anaconda3/envs/svb/lib/python3.8/site-packages/tensorflow/python/training/slot_creator.py:200: Variable.initialized_value (from tensorflow.python.ops.variables) is deprecated and will be removed in a future version.\n",
      "Instructions for updating:\n",
      "Use Variable.read_value. Variables in 2.X are initialized automatically both in eager and graph (inside tf.defun) contexts.\n",
      "INFO : Starting inference...\n",
      "INFO :  - Number of training epochs: 4000\n",
      "INFO :  - 125 voxels of 5 time points (processed in 1 batches of target size 5)\n",
      "INFO :  - Initial learning rate: 0.05000 (decay rate 1.000)\n",
      "INFO :  - Initial sample size: 5 (increase factor 1.000)\n",
      "INFO :  - Posterior reversion after 50 trials\n",
      "INFO :  - Start 0000: mean cost 494.6 (latent -2.544, reconstr 501.3)\n",
      "          Volume: param means [22.595], param vars [1.5]\n",
      "          Noise mean/var [1.   1.02]\n",
      "INFO :  - Epoch 1000: mean/median cost -12.92/-12.99, (latent -27.96, reconstr 15.05)\n",
      "          Volume: param means [29.989], param vars [0.929]\n",
      "          noise mean/var [119.262   1.355], ak 1.835e-27, lr 0.05, ss 5 - Saving\n",
      "INFO :  - Epoch 2000: mean/median cost -39.25/-39.32, (latent -53.15, reconstr 13.9)\n",
      "          Volume: param means [36.423], param vars [0.633]\n",
      "          noise mean/var [92.058  1.455], ak 0, lr 0.05, ss 5 - Saving\n",
      "INFO :  - Epoch 3000: mean/median cost -70.09/-70.11, (latent -78.86, reconstr 8.768)\n",
      "          Volume: param means [52.315], param vars [0.282]\n",
      "          noise mean/var [17.202  1.754], ak 0, lr 0.05, ss 5 - Trial 1\n",
      "INFO :  - End of inference. \n",
      "INFO :  - Reverting to best batch-averaged cost\n",
      "INFO :    Best batch-averaged cost: -118.2\n",
      "          Final parameter means: [60.004] in volume\n",
      "          Final noise variance in volume: 2.934\n",
      "INFO : DONE: 19.841s\n",
      "INFO : Output written to: vol_demo\n"
     ]
    },
    {
     "data": {
      "image/png": "[encoded data removed]",
      "text/plain": [
       "<Figure size 432x288 with 1 Axes>"
      ]
     },
     "metadata": {
      "needs_background": "light"
     },
     "output_type": "display_data"
    }
   ],
   "source": [
    "options = {\n",
    "    \"learning_rate\" : 0.05,\n",
    "    \"batch_size\" : 5,\n",
    "    \"sample_size\" : 5,\n",
    "    \"epochs\" : 4000,\n",
    "    \"log_stream\" : sys.stdout,\n",
    "    \"display_step\": 1000,  \n",
    "    \n",
    "    \"plds\": plds, \n",
    "    \"repeats\": REPEATS, \n",
    "    \"casl\": True, \n",
    "    \"tau\": TAU,\n",
    "    \"prior_type\" : \"M\",\n",
    "    \"att\": ATT[0],\n",
    "}\n",
    "\n",
    "runtime, svb, training_history = run(\n",
    "    spc.make_nifti(data), \"aslrest\",\n",
    "    \"vol_demo\", \n",
    "    **options)\n",
    "\n",
    "means = svb.evaluate(svb.model_means)\n",
    "sasl = means[0]\n",
    "plt.hist(sasl); plt.title(\"GM CBF\")\n",
    "plt.show()"
   ]
  },
  {
   "cell_type": "code",
   "execution_count": 5,
   "metadata": {},
   "outputs": [
    {
     "name": "stdout",
     "output_type": "stream",
     "text": [
      "basil -i tempdir/data.nii.gz -o tempdir/basil_out -m tempdir/mask.nii.gz --spatial --optfile=tempdir/basil_opts.txt \n",
      "basil options: --pld=0.8 --repeats=5 --casl --fixbolus --fixbat --bat=1.3 --tau=1.0   \n",
      "\n",
      "\n"
     ]
    },
    {
     "data": {
      "image/png": "[encoded data removed]",
      "text/plain": [
       "<Figure size 432x288 with 1 Axes>"
      ]
     },
     "metadata": {
      "needs_background": "light"
     },
     "output_type": "display_data"
    }
   ],
   "source": [
    "bopts = {\n",
    "    \"pld\": plds[0], \n",
    "    \"repeats\": REPEATS, \n",
    "    \"casl\": True, \n",
    "    \"fixbolus\": True, \n",
    "    \"fixbat\": True,\n",
    "    \"bat\": ATT[0],\n",
    "    \"tau\": TAU,\n",
    "}\n",
    "\n",
    "basl, _ = run_basil(data, np.ones(spc.size), bopts)\n",
    "plt.hist(basl.flatten()); plt.title(\"GM CBF\")\n",
    "plt.show()"
   ]
  },
  {
   "cell_type": "markdown",
   "metadata": {},
   "source": [
    "The BASIL spatial prior seems to do a better job at enforcing similarity between voxels..."
   ]
  },
  {
   "cell_type": "markdown",
   "metadata": {},
   "source": [
    "# Multi-PLD data, no PVE\n",
    "\n",
    "Still GM only, 5 PLDs, 5 repeats, no noise. Infer CBF and ATT, with M prior on CBF. "
   ]
  },
  {
   "cell_type": "code",
   "execution_count": 6,
   "metadata": {},
   "outputs": [],
   "source": [
    "plds = [0.5, 0.7, 1.9, 1.1, 1.3]\n",
    "\n",
    "data = np.zeros((*spc.size, len(plds) * REPEATS))\n",
    "asl_model = AslRestModel(\n",
    "        VolumetricModel(spc.make_nifti(data)), \n",
    "        plds=plds, casl=True, repeats=REPEATS, tau=TAU)\n",
    "\n",
    "tpts = asl_model.tpts()\n",
    "with tf.Session() as sess:\n",
    "    ones = np.ones([spc.size.prod(), 1], dtype=np.float32)\n",
    "    data = sess.run(asl_model.evaluate([CBF[0] * ones, ATT[0] * ones], tpts))\n",
    "\n",
    "data = data.reshape(*spc.size, tpts.shape[-1])"
   ]
  },
  {
   "cell_type": "markdown",
   "metadata": {},
   "source": [
    "Note that LR 0.1 seems to be too high here - SVB gets stuck on a solution that is ~5% out on average. \n",
    "Note also that it gets to the solution much quicker than the run above with single PLD. This is despite the optimisation having the same LR and sample size. "
   ]
  },
  {
   "cell_type": "code",
   "execution_count": 7,
   "metadata": {},
   "outputs": [
    {
     "name": "stdout",
     "output_type": "stream",
     "text": [
      "INFO : SVB 0.0.2.post163\n",
      "INFO : Model: ASL resting state model: 0.0.1.post31\n",
      "INFO :  - Bolus duration: 1.0\n",
      "INFO :  - Data is CASL/pCASL: True\n",
      "INFO :  - Inversion times: [1.5, 1.7, 2.9, 2.1, 2.3]\n",
      "INFO :  - Post-labelling delays (for CASL instead of TIs): [0.5, 0.7, 1.9, 1.1, 1.3]\n",
      "INFO :  - Number of repeats - single value or one per TI/PLD: 5\n",
      "INFO :  - Increase in TI/PLD per slice: 0\n",
      "INFO :  - Tissue T1 value: array of shape (125,), mean 1.3000000715255737\n",
      "INFO :  - Bolus arrival time: 1.3\n",
      "INFO :  - Bolus arrival time prior std.dev.: 1.0\n",
      "INFO :  - Perfusion value to use in estimation of effective T1: array of shape (125,), mean 0.009999998845160007\n",
      "INFO :  - Blood/tissue partition coefficient. If only inferring on one tissue, default is 0.9; if inferring on both GM/WM default is 0.98/0.8 respectively. See --pcwm: array of shape (125,), mean 0.8999999165534973\n",
      "INFO :  - Include WM parameters: False\n",
      "INFO :  - WM perfusion: 0\n",
      "INFO :  - WM arterial transit time: 1.6\n",
      "INFO :  - WM T1 value: 1.1\n",
      "INFO :  - WM parition coefficient. See --pc: 0.8\n",
      "INFO :  - WM perfusion value to use in estimation of effective T1: 0.003\n",
      "INFO :  - Blood T1 value: 1.65\n",
      "INFO :  - Arterial bolus arrival time: 1.0\n",
      "INFO :  - Arterial bolus arrival time prior std.dev.: 1.0\n",
      "INFO :  - Only infer arterial component not tissue: None\n",
      "INFO :  - Infer arterial component: None\n",
      "INFO :  - Infer T1 value: None\n",
      "INFO :  - Initialization method for ATT (max=max signal - bolus duration): \n",
      "INFO :  - Perform PVEc (shortcut for incwm, inferwm): False\n",
      "INFO :  - Infer WM parameters: False\n",
      "INFO :  - GM partial volume: array of shape (125,), mean 1.0\n",
      "INFO :  - WM partial volume: 0.0\n",
      "INFO : Setting up prior and posterior\n",
      "INFO :  - Not inferring covariances between parameters\n",
      "INFO :  - Using numerical calculation of latent loss\n",
      "INFO :  - Parameter: ftiss\n",
      "INFO :    - Prior: Gaussian (1.500000, 1000000.000000) MRF spatial prior\n",
      "INFO :    - Posterior: Gaussian (1.500000, 1.500000) voxelwise posterior\n",
      "INFO :  - Parameter: delttiss\n",
      "INFO :    - Prior: Gaussian (1.300000, 1.000000) Non-spatial prior (1.300000, 1.000000)\n",
      "INFO :    - Posterior: Gaussian (1.300000, 1.000000) voxelwise posterior\n",
      "INFO :  - Noise\n",
      "INFO :    - Prior: Log-Normal (1.000000, 200000.000000) Non-spatial prior (0.000000, 12.206073)\n",
      "INFO :    - Posterior: Log-Normal (1.000000, 1.020000) voxelwise posterior\n",
      "INFO : Starting inference...\n",
      "INFO :  - Number of training epochs: 4000\n",
      "INFO :  - 125 voxels of 25 time points (processed in 5 batches of target size 5)\n",
      "INFO :  - Initial learning rate: 0.05000 (decay rate 1.000)\n",
      "INFO :  - Initial sample size: 5 (increase factor 1.000)\n",
      "INFO :  - Posterior reversion after 50 trials\n",
      "INFO :  - Start 0000: mean cost 97.26 (latent -2.194, reconstr 99.71)\n",
      "          Volume: param means [37.89  1.3 ], param vars [1.5 1. ]\n",
      "          Noise mean/var [96.739  1.02 ]\n",
      "INFO :  - Epoch 1000: mean/median cost -167.5/-171.5, (latent -127.4, reconstr -40.09)\n",
      "          Volume: param means [60.046  1.3  ], param vars [4.007e-06 2.464e-09]\n",
      "          noise mean/var [0.047 1.069], ak 0, lr 0.05, ss 5 - Trial 22\n",
      "INFO :  - Epoch 2000: mean/median cost -280/-296.4, (latent -252.4, reconstr -27.58)\n",
      "          Volume: param means [60.037  1.3  ], param vars [1.233e-06 5.859e-10]\n",
      "          noise mean/var [0.046 1.064], ak 0, lr 0.05, ss 5 - Trial 8\n",
      "INFO :  - Epoch 3000: mean/median cost -414.8/-423.1, (latent -377.4, reconstr -37.43)\n",
      "          Volume: param means [60.041  1.3  ], param vars [4.289e-07 2.486e-10]\n",
      "          noise mean/var [0.043 1.075], ak 0, lr 0.05, ss 5 - Trial 34\n",
      "INFO :  - End of inference. \n",
      "INFO :  - Reverting to best batch-averaged cost\n",
      "INFO :    Best batch-averaged cost: -543.9\n",
      "          Final parameter means: [60.046  1.3  ] in volume\n",
      "          Final noise variance in volume: 0.5389\n",
      "INFO : DONE: 41.007s\n",
      "INFO : Output written to: vol_demo\n"
     ]
    },
    {
     "data": {
      "image/png": "[encoded data removed]",
      "text/plain": [
       "<Figure size 432x288 with 2 Axes>"
      ]
     },
     "metadata": {
      "needs_background": "light"
     },
     "output_type": "display_data"
    }
   ],
   "source": [
    "options = {\n",
    "    \"learning_rate\" : 0.05,\n",
    "    \"batch_size\" : 5,\n",
    "    \"sample_size\" : 5,\n",
    "    \"epochs\" : 4000,\n",
    "    \"log_stream\" : sys.stdout,\n",
    "    \"display_step\": 1000,  \n",
    "    \n",
    "    \"plds\": plds, \n",
    "    \"repeats\": REPEATS, \n",
    "    \"casl\": True, \n",
    "    \"tau\": TAU,\n",
    "    \"param_overrides\" : {\n",
    "        \"ftiss\" : {\n",
    "            \"prior_type\" : \"M\",\n",
    "        },\n",
    "    }\n",
    "}\n",
    "\n",
    "runtime, svb, training_history = run(\n",
    "    spc.make_nifti(data), \"aslrest\",\n",
    "    \"vol_demo\", \n",
    "    **options)\n",
    "\n",
    "means = svb.evaluate(svb.model_means)\n",
    "sasl = means[0]\n",
    "satt = means[1]\n",
    "plt.subplot(1,2,1); plt.title(\"GM CBF\")\n",
    "plt.hist(sasl)\n",
    "plt.subplot(1,2,2); plt.title(\"GM ATT\")\n",
    "plt.hist(satt)\n",
    "plt.show()"
   ]
  },
  {
   "cell_type": "code",
   "execution_count": 8,
   "metadata": {},
   "outputs": [
    {
     "name": "stdout",
     "output_type": "stream",
     "text": [
      "basil -i tempdir/data.nii.gz -o tempdir/basil_out -m tempdir/mask.nii.gz --spatial --optfile=tempdir/basil_opts.txt \n",
      "basil options: --repeats=5 --casl --fixbolus --tau=1.0 --bat=1.0 --pld1=0.5 --pld2=0.7 --pld3=1.9 --pld4=1.1 --pld5=1.3   \n",
      "\n",
      "\n"
     ]
    },
    {
     "data": {
      "image/png": "[encoded data removed]",
      "text/plain": [
       "<Figure size 432x288 with 2 Axes>"
      ]
     },
     "metadata": {
      "needs_background": "light"
     },
     "output_type": "display_data"
    }
   ],
   "source": [
    "bopts = {\n",
    "    \"repeats\": REPEATS, \n",
    "    \"casl\": True, \n",
    "    \"fixbolus\": True, \n",
    "    \"tau\": TAU,\n",
    "    \"bat\": 1.0\n",
    "}\n",
    "for pidx,p in enumerate(plds): \n",
    "    bopts[f'pld{pidx+1}'] = p \n",
    "\n",
    "basl, batt = run_basil(data, np.ones(spc.size), bopts)\n",
    "plt.subplot(1,2,1)\n",
    "plt.hist(basl.flatten()); plt.title(\"GM CBF\")\n",
    "plt.subplot(1,2,2)\n",
    "plt.hist(batt.flatten()); plt.title(\"GM ATT\")\n",
    "plt.show()"
   ]
  },
  {
   "cell_type": "markdown",
   "metadata": {},
   "source": [
    "## Single PLD, with PVE  \n",
    "\n",
    "GM and WM, using a spherical brain phantom. We need to ensure there are a decent number of pure voxels to ensure SVB is able to converge to the right solution. \n",
    "\n",
    "'Aliasing' behaviour - multiple possible solutions - is seen if the line below is uncommented. There are fewer pure GM voxels, and so the optimisation tends towards solutions where WM CBF is higher and GM CBF lower. BASIL does not seem to be affected by this to the same extent. "
   ]
  },
  {
   "cell_type": "code",
   "execution_count": 9,
   "metadata": {},
   "outputs": [
    {
     "data": {
      "image/png": "[encoded data removed]",
      "text/plain": [
       "<Figure size 432x288 with 2 Axes>"
      ]
     },
     "metadata": {
      "needs_background": "light"
     },
     "output_type": "display_data"
    }
   ],
   "source": [
    "spc = rt.ImageSpace.create_axis_aligned([0,0,0], [10,10,10], [1,1,1])\n",
    "sph_cent = spc.fov_size / 2\n",
    "\n",
    "# This leads to a better inference, lots of pure voxels \n",
    "r1, r2 = sph_cent[0] * 0.9, sph_cent[0] * 0.6     \n",
    "pvs = calc_sphere_pvs(sph_cent, r1, r2, spc, 10)\n",
    "mask = (pvs > 0).any(-1)\n",
    "\n",
    "# # Uncomment this for alias solutions, there are fewer pure voxels \n",
    "# gm = np.random.uniform(0.1, 0.9, spc.size)\n",
    "# pvs = np.stack((gm, 1-gm), axis=-1)\n",
    "# mask = np.ones(spc.size, dtype=np.bool)\n",
    "# del gm \n",
    "\n",
    "plt.subplot(1,2,1)\n",
    "plt.imshow(pvs[...,5,0]); plt.title(\"GM\") \n",
    "plt.subplot(1,2,2)\n",
    "plt.imshow(pvs[...,5,1]); plt.title(\"WM\")\n",
    "plt.show()"
   ]
  },
  {
   "cell_type": "code",
   "execution_count": 10,
   "metadata": {},
   "outputs": [],
   "source": [
    "plds = [0.8]\n",
    "\n",
    "data = np.zeros((*spc.size, REPEATS))\n",
    "asl_model = AslRestModel(\n",
    "        VolumetricModel(spc.make_nifti(data)), \n",
    "        plds=plds, casl=True, repeats=REPEATS, tau=TAU, att=ATT[0], attwm=ATT[1],\n",
    "        pvgm=pvs[...,0], pvwm=pvs[...,1], pvcorr=True)\n",
    "\n",
    "tpts = asl_model.tpts()\n",
    "with tf.Session() as sess:\n",
    "    ones = np.ones([spc.size.prod(), 1], dtype=np.float32)\n",
    "    data = sess.run(asl_model.evaluate([CBF[0] * ones, CBF[1] * ones], tpts))\n",
    "\n",
    "data = data.reshape(*spc.size, tpts.shape[-1])"
   ]
  },
  {
   "cell_type": "code",
   "execution_count": 11,
   "metadata": {},
   "outputs": [
    {
     "name": "stdout",
     "output_type": "stream",
     "text": [
      "INFO : SVB 0.0.2.post163\n",
      "INFO : Model: ASL resting state model: 0.0.1.post31\n",
      "INFO :  - Bolus duration: 1.0\n",
      "INFO :  - Data is CASL/pCASL: True\n",
      "INFO :  - Inversion times: [1.8]\n",
      "INFO :  - Post-labelling delays (for CASL instead of TIs): [0.8]\n",
      "INFO :  - Number of repeats - single value or one per TI/PLD: 5\n",
      "INFO :  - Increase in TI/PLD per slice: 0\n",
      "INFO :  - Tissue T1 value: array of shape (576,), mean 1.3000000715255737\n",
      "INFO :  - Bolus arrival time: array of shape (576,), mean 1.3000000715255737\n",
      "INFO :  - Bolus arrival time prior std.dev.: 0.1\n",
      "INFO :  - Perfusion value to use in estimation of effective T1: array of shape (576,), mean 0.009999998845160007\n",
      "INFO :  - Blood/tissue partition coefficient. If only inferring on one tissue, default is 0.9; if inferring on both GM/WM default is 0.98/0.8 respectively. See --pcwm: array of shape (576,), mean 0.9799999594688416\n",
      "INFO :  - Include WM parameters: True\n",
      "INFO :  - WM perfusion: 0\n",
      "INFO :  - WM arterial transit time: array of shape (576,), mean 1.6000001430511475\n",
      "INFO :  - WM T1 value: array of shape (576,), mean 1.100000023841858\n",
      "INFO :  - WM parition coefficient. See --pc: array of shape (576,), mean 0.8000000715255737\n",
      "INFO :  - WM perfusion value to use in estimation of effective T1: array of shape (576,), mean 0.0030000002589076757\n",
      "INFO :  - Blood T1 value: 1.65\n",
      "INFO :  - Arterial bolus arrival time: 1.0\n",
      "INFO :  - Arterial bolus arrival time prior std.dev.: 0.1\n",
      "INFO :  - Only infer arterial component not tissue: None\n",
      "INFO :  - Infer arterial component: None\n",
      "INFO :  - Infer T1 value: None\n",
      "INFO :  - Initialization method for ATT (max=max signal - bolus duration): \n",
      "INFO :  - Perform PVEc (shortcut for incwm, inferwm): True\n",
      "INFO :  - Infer WM parameters: True\n",
      "INFO :  - GM partial volume: array of shape (576,), mean 0.4674166440963745\n",
      "INFO :  - WM partial volume: array of shape (576,), mean 0.19636112451553345\n",
      "INFO : Setting up prior and posterior\n",
      "INFO :  - Not inferring covariances between parameters\n",
      "INFO :  - Using numerical calculation of latent loss\n",
      "INFO :  - Parameter: ftiss\n",
      "INFO :    - Prior: Gaussian (1.500000, 1000000.000000) MRF spatial prior\n",
      "INFO :    - Posterior: Gaussian (1.500000, 1.500000) voxelwise posterior\n",
      "INFO :  - Parameter: fwm\n",
      "INFO :    - Prior: Gaussian (0.500000, 1000000.000000) MRF spatial prior\n",
      "INFO :    - Posterior: Gaussian (0.500000, 1.500000) voxelwise posterior\n",
      "INFO :  - Noise\n",
      "INFO :    - Prior: Log-Normal (1.000000, 200000.000000) Non-spatial prior (0.000000, 12.206073)\n",
      "INFO :    - Posterior: Log-Normal (1.000000, 1.020000) voxelwise posterior\n",
      "INFO : Starting inference...\n",
      "INFO :  - Number of training epochs: 4000\n",
      "INFO :  - 576 voxels of 5 time points (processed in 1 batches of target size 5)\n",
      "INFO :  - Initial learning rate: 0.05000 (decay rate 1.000)\n",
      "INFO :  - Initial sample size: 5 (increase factor 1.000)\n",
      "INFO :  - Posterior reversion after 50 trials\n",
      "INFO :  - Start 0000: mean cost 167.2 (latent -8.302, reconstr 176.6)\n",
      "          Volume: param means [20.911  6.97 ], param vars [1.5 1.5]\n",
      "          Noise mean/var [1.   1.02]\n",
      "INFO :  - Epoch 1000: mean/median cost -64.83/-74.72, (latent -56.33, reconstr -8.504)\n",
      "          Volume: param means [40.343 11.424], param vars [0.804 2.559]\n",
      "          noise mean/var [39.285  2.063], ak 1.815e-27, lr 0.05, ss 5 - Saving\n",
      "INFO :  - Epoch 2000: mean/median cost -119.5/-128.7, (latent -105.5, reconstr -13.95)\n",
      "          Volume: param means [46.287 13.965], param vars [0.582 2.467]\n",
      "          noise mean/var [23.639 28.194], ak 0, lr 0.05, ss 5 - Saving\n",
      "INFO :  - Epoch 3000: mean/median cost -175.1/-181.2, (latent -154.8, reconstr -20.26)\n",
      "          Volume: param means [51.291 15.497], param vars [0.444 2.405]\n",
      "          noise mean/var [ 3.444 11.695], ak 0, lr 0.05, ss 5 - Saving\n",
      "INFO :  - End of inference. \n",
      "INFO :  - Reverting to best batch-averaged cost\n",
      "INFO :    Best batch-averaged cost: -231.4\n",
      "          Final parameter means: [52.828 15.785] in volume\n",
      "          Final noise variance in volume: 0.9714\n",
      "INFO : DONE: 21.762s\n",
      "INFO : Output written to: vol_demo\n"
     ]
    },
    {
     "data": {
      "image/png": "[encoded data removed]",
      "text/plain": [
       "<Figure size 432x288 with 2 Axes>"
      ]
     },
     "metadata": {
      "needs_background": "light"
     },
     "output_type": "display_data"
    }
   ],
   "source": [
    "options = {\n",
    "    \"learning_rate\" : 0.05,\n",
    "    \"batch_size\" : 5,\n",
    "    \"sample_size\" : 5,\n",
    "    \"epochs\" : 4000,\n",
    "    \"log_stream\" : sys.stdout,\n",
    "    \"display_step\": 1000,  \n",
    "    \n",
    "    \"plds\": plds, \n",
    "    \"repeats\": REPEATS, \n",
    "    \"casl\": True, \n",
    "    \"tau\": TAU,\n",
    "    \"pvcorr\": True, \n",
    "    \"pvgm\": pvs[...,0], \n",
    "    \"pvwm\": pvs[...,1], \n",
    "    \"param_overrides\" : {\n",
    "        \"ftiss\" : { \"prior_type\" : \"M\", },\n",
    "        \"fwm\" : { \"prior_type\": \"M\",  }\n",
    "    },\n",
    "\n",
    "}\n",
    "\n",
    "runtime, svb, training_history = run(\n",
    "    spc.make_nifti(data), \"aslrest\",\n",
    "    \"vol_demo\", mask=mask,\n",
    "    **options)\n",
    "\n",
    "means = svb.evaluate(svb.model_means)\n",
    "plt.subplot(1,2,1)\n",
    "plt.hist(means[0]); plt.title(\"GM CBF\")\n",
    "plt.subplot(1,2,2)\n",
    "plt.hist(means[1]); plt.title(\"GM CBF\")\n",
    "plt.show()"
   ]
  },
  {
   "cell_type": "markdown",
   "metadata": {},
   "source": [
    "Bear in mind the above histograms, particularly for WM, contain mutliple zero voxels that do not actually have any tissue of interest. Because they are contained within the brain mask, they are included in the inference, but they cannot reliably be optimised over because they carry zero PV weight in one tissue. "
   ]
  },
  {
   "cell_type": "code",
   "execution_count": 12,
   "metadata": {},
   "outputs": [
    {
     "name": "stdout",
     "output_type": "stream",
     "text": [
      "basil -i tempdir/data.nii.gz -o tempdir/basil_out -m tempdir/mask.nii.gz --spatial --optfile=tempdir/basil_opts.txt  --pgm=tempdir/pvgm.nii.gz --pwm=tempdir/pvwm.nii.gz\n",
      "basil options: --pld=0.8 --repeats=5 --casl --fixbolus --fixbat --bat=1.3 --batwm=1.6 --tau=1.0   \n",
      "\n",
      "\n"
     ]
    },
    {
     "data": {
      "image/png": "[encoded data removed]",
      "text/plain": [
       "<Figure size 432x288 with 2 Axes>"
      ]
     },
     "metadata": {
      "needs_background": "light"
     },
     "output_type": "display_data"
    }
   ],
   "source": [
    "bopts = {\n",
    "    \"pld\": plds[0], \n",
    "    \"repeats\": REPEATS, \n",
    "    \"casl\": True, \n",
    "    \"fixbolus\": True, \n",
    "    \"fixbat\": True,\n",
    "    \"bat\": ATT[0],\n",
    "    \"batwm\": ATT[1],\n",
    "    \"tau\": TAU,\n",
    "}\n",
    "\n",
    "basl, _ = run_basil(data, mask, bopts, pvs)\n",
    "plt.subplot(1,2,1)\n",
    "plt.hist(basl[mask,0].flatten()); plt.title(\"GM CBF\")\n",
    "plt.subplot(1,2,2)\n",
    "plt.hist(basl[mask,1].flatten()); plt.title(\"WM CBF\")\n",
    "plt.show()"
   ]
  },
  {
   "cell_type": "markdown",
   "metadata": {},
   "source": [
    "Note these results look extra flattering because of all the smoothing FABBER applies within the tissue maps. Voxels that are zero-PV get their neighbours values smoothed in, leading to a perfect solution (though physiologically unrealistic). "
   ]
  },
  {
   "cell_type": "markdown",
   "metadata": {},
   "source": [
    "## Multi-PLD with PVE "
   ]
  },
  {
   "cell_type": "code",
   "execution_count": 13,
   "metadata": {},
   "outputs": [],
   "source": [
    "plds = [0.5, 0.7, 1.9, 1.1, 1.3]\n",
    "\n",
    "data = np.zeros((*spc.size, len(plds) * REPEATS))\n",
    "asl_model = AslRestModel(\n",
    "        VolumetricModel(spc.make_nifti(data)), \n",
    "        plds=plds, casl=True, repeats=REPEATS, tau=TAU, att=ATT[0], attwm=ATT[1],\n",
    "        pvgm=pvs[...,0], pvwm=pvs[...,1], pvcorr=True)\n",
    "\n",
    "tpts = asl_model.tpts()\n",
    "with tf.Session() as sess:\n",
    "    ones = np.ones([spc.size.prod(), 1], dtype=np.float32)\n",
    "    data = sess.run(asl_model.evaluate([CBF[0] * ones, ATT[0] * ones, \n",
    "                                        CBF[1] * ones, ATT[1] * ones], tpts))\n",
    "\n",
    "data = data.reshape(*spc.size, tpts.shape[-1])"
   ]
  },
  {
   "cell_type": "code",
   "execution_count": 14,
   "metadata": {},
   "outputs": [
    {
     "name": "stdout",
     "output_type": "stream",
     "text": [
      "INFO : SVB 0.0.2.post163\n",
      "INFO : Model: ASL resting state model: 0.0.1.post31\n",
      "INFO :  - Bolus duration: 1.0\n",
      "INFO :  - Data is CASL/pCASL: True\n",
      "INFO :  - Inversion times: [1.5, 1.7, 2.9, 2.1, 2.3]\n",
      "INFO :  - Post-labelling delays (for CASL instead of TIs): [0.5, 0.7, 1.9, 1.1, 1.3]\n",
      "INFO :  - Number of repeats - single value or one per TI/PLD: 5\n",
      "INFO :  - Increase in TI/PLD per slice: 0\n",
      "INFO :  - Tissue T1 value: array of shape (576,), mean 1.3000000715255737\n",
      "INFO :  - Bolus arrival time: 1.3\n",
      "INFO :  - Bolus arrival time prior std.dev.: 1.0\n",
      "INFO :  - Perfusion value to use in estimation of effective T1: array of shape (576,), mean 0.009999998845160007\n",
      "INFO :  - Blood/tissue partition coefficient. If only inferring on one tissue, default is 0.9; if inferring on both GM/WM default is 0.98/0.8 respectively. See --pcwm: array of shape (576,), mean 0.9799999594688416\n",
      "INFO :  - Include WM parameters: True\n",
      "INFO :  - WM perfusion: 0\n",
      "INFO :  - WM arterial transit time: 1.6\n",
      "INFO :  - WM T1 value: array of shape (576,), mean 1.100000023841858\n",
      "INFO :  - WM parition coefficient. See --pc: array of shape (576,), mean 0.8000000715255737\n",
      "INFO :  - WM perfusion value to use in estimation of effective T1: array of shape (576,), mean 0.0030000002589076757\n",
      "INFO :  - Blood T1 value: 1.65\n",
      "INFO :  - Arterial bolus arrival time: 1.0\n",
      "INFO :  - Arterial bolus arrival time prior std.dev.: 1.0\n",
      "INFO :  - Only infer arterial component not tissue: None\n",
      "INFO :  - Infer arterial component: None\n",
      "INFO :  - Infer T1 value: None\n",
      "INFO :  - Initialization method for ATT (max=max signal - bolus duration): \n",
      "INFO :  - Perform PVEc (shortcut for incwm, inferwm): True\n",
      "INFO :  - Infer WM parameters: True\n",
      "INFO :  - GM partial volume: array of shape (576,), mean 0.4674166440963745\n",
      "INFO :  - WM partial volume: array of shape (576,), mean 0.19636112451553345\n",
      "INFO : Setting up prior and posterior\n",
      "INFO :  - Not inferring covariances between parameters\n",
      "INFO :  - Using numerical calculation of latent loss\n",
      "INFO :  - Parameter: ftiss\n",
      "INFO :    - Prior: Gaussian (1.500000, 1000000.000000) MRF spatial prior\n",
      "INFO :    - Posterior: Gaussian (1.500000, 1.500000) voxelwise posterior\n",
      "INFO :  - Parameter: delttiss\n",
      "INFO :    - Prior: Gaussian (1.300000, 1.000000) Non-spatial prior (1.300000, 1.000000)\n",
      "INFO :    - Posterior: Gaussian (1.300000, 1.000000) voxelwise posterior\n",
      "INFO :  - Parameter: fwm\n",
      "INFO :    - Prior: Gaussian (0.500000, 1000000.000000) MRF spatial prior\n",
      "INFO :    - Posterior: Gaussian (0.500000, 1.500000) voxelwise posterior\n",
      "INFO :  - Parameter: deltwm\n",
      "INFO :    - Prior: Gaussian (1.600000, 1.000000) Non-spatial prior (1.600000, 1.000000)\n",
      "INFO :    - Posterior: Gaussian (1.600000, 1.000000) voxelwise posterior\n",
      "INFO :  - Noise\n",
      "INFO :    - Prior: Log-Normal (1.000000, 200000.000000) Non-spatial prior (0.000000, 12.206073)\n",
      "INFO :    - Posterior: Log-Normal (1.000000, 1.020000) voxelwise posterior\n",
      "INFO : Starting inference...\n",
      "INFO :  - Number of training epochs: 4000\n",
      "INFO :  - 576 voxels of 25 time points (processed in 5 batches of target size 5)\n",
      "INFO :  - Initial learning rate: 0.05000 (decay rate 1.000)\n",
      "INFO :  - Initial sample size: 5 (increase factor 1.000)\n",
      "INFO :  - Posterior reversion after 50 trials\n",
      "INFO :  - Start 0000: mean cost 62.02 (latent -8.855, reconstr 70.74)\n",
      "          Volume: param means [36.625  1.3   12.208  1.6  ], param vars [1.5 1.  1.5 1. ]\n",
      "          Noise mean/var [38.657  1.02 ]\n",
      "INFO :  - Epoch 1000: mean/median cost -218.8/-217.4, (latent -259.3, reconstr 40.55)\n",
      "          Volume: param means [39.071  1.141 13.884  1.556], param vars [0.998 0.397 2.047 0.803]\n",
      "          noise mean/var [23.624  1.054], ak 0, lr 0.05, ss 5 - Trial 13\n",
      "INFO :  - Epoch 2000: mean/median cost -474/-481.5, (latent -509.3, reconstr 35.34)\n",
      "          Volume: param means [41.313  1.248 14.792  1.57 ], param vars [0.905 0.455 1.906 0.813]\n",
      "          noise mean/var [18.156  1.064], ak 0, lr 0.05, ss 5 - Trial 32\n",
      "INFO :  - Epoch 3000: mean/median cost -769/-797.4, (latent -758.4, reconstr -10.63)\n",
      "          Volume: param means [48.233  1.304 13.576  1.597], param vars [0.755 0.45  1.823 0.812]\n",
      "          noise mean/var [12.499  1.056], ak 0, lr 0.05, ss 5 - Saving\n",
      "INFO :  - End of inference. \n",
      "INFO :  - Reverting to best batch-averaged cost\n",
      "INFO :    Best batch-averaged cost: -1020\n",
      "          Final parameter means: [48.29   1.305 13.547  1.598] in volume\n",
      "          Final noise variance in volume: 0.7906\n",
      "INFO : DONE: 103.109s\n",
      "INFO : Volumetric posterior data shape: (576, 15)\n",
      "INFO : Output written to: vol_demo\n"
     ]
    },
    {
     "data": {
      "image/png": "[encoded data removed]",
      "text/plain": [
       "<Figure size 432x288 with 4 Axes>"
      ]
     },
     "metadata": {
      "needs_background": "light"
     },
     "output_type": "display_data"
    }
   ],
   "source": [
    "options = {\n",
    "    \"learning_rate\" : 0.05,\n",
    "    \"batch_size\" : 5,\n",
    "    \"sample_size\" : 5,\n",
    "    \"epochs\" : 4000,\n",
    "    \"log_stream\" : sys.stdout,\n",
    "    \"display_step\": 1000,  \n",
    "    \n",
    "    \"plds\": plds, \n",
    "    \"repeats\": REPEATS, \n",
    "    \"casl\": True, \n",
    "    \"tau\": TAU,\n",
    "    \"pvcorr\": True, \n",
    "    \"pvgm\": pvs[...,0], \n",
    "    \"pvwm\": pvs[...,1], \n",
    "    \"param_overrides\" : {\n",
    "        \"ftiss\" : { \"prior_type\" : \"M\", },\n",
    "        \"fwm\" : { \"prior_type\": \"M\", }\n",
    "    },\n",
    "    \n",
    "    \"save_mean\": True, \n",
    "    \"save_cost\": True, \n",
    "    \"save_model_fit\": True, \n",
    "    \"save_post\": True, \n",
    "    \"save_input_data\": True, \n",
    "    \"save_noise\": True,\n",
    "}\n",
    "\n",
    "runtime, svb, training_history = run(\n",
    "    spc.make_nifti(data), \"aslrest\",\n",
    "    \"vol_demo\", mask=mask,\n",
    "    **options)\n",
    "\n",
    "means = svb.evaluate(svb.model_means)\n",
    "plt.subplot(2,2,1)\n",
    "plt.hist(means[0]); plt.title(\"GM CBF\")\n",
    "plt.subplot(2,2,2)\n",
    "plt.hist(means[2]); plt.title(\"WM CBF\")\n",
    "plt.subplot(2,2,3)\n",
    "plt.hist(means[1]); plt.title(\"GM ATT\")\n",
    "plt.subplot(2,2,4)\n",
    "plt.hist(means[3]); plt.title(\"WM ATT\")\n",
    "plt.show()"
   ]
  },
  {
   "cell_type": "code",
   "execution_count": 15,
   "metadata": {},
   "outputs": [
    {
     "name": "stdout",
     "output_type": "stream",
     "text": [
      "basil -i tempdir/data.nii.gz -o tempdir/basil_out -m tempdir/mask.nii.gz --spatial --optfile=tempdir/basil_opts.txt  --pgm=tempdir/pvgm.nii.gz --pwm=tempdir/pvwm.nii.gz\n",
      "basil options: --repeats=5 --casl --fixbolus --tau=1.0 --bat=1.1 --batwm=1.9000000000000001 --pld1=0.5 --pld2=0.7 --pld3=1.9 --pld4=1.1 --pld5=1.3   \n",
      "\n",
      "\n"
     ]
    },
    {
     "data": {
      "image/png": "[encoded data removed]",
      "text/plain": [
       "<Figure size 432x288 with 4 Axes>"
      ]
     },
     "metadata": {
      "needs_background": "light"
     },
     "output_type": "display_data"
    }
   ],
   "source": [
    "bopts = {\n",
    "    \"repeats\": REPEATS, \n",
    "    \"casl\": True, \n",
    "    \"fixbolus\": True, \n",
    "    \"tau\": TAU,\n",
    "    \"bat\": ATT[0] - 0.2,     # the default BAT is significantly different, so give it a sensible start \n",
    "    \"batwm\": ATT[1] + 0.3,\n",
    "}\n",
    "\n",
    "for pidx,pld in enumerate(plds):\n",
    "    bopts[f'pld{pidx+1}'] = pld \n",
    "\n",
    "basl, batt = run_basil(data, mask, bopts, pvs)\n",
    "plt.subplot(2,2,1)\n",
    "plt.hist(basl[...,0].flatten()); plt.title(\"GM CBF\")\n",
    "plt.subplot(2,2,2)\n",
    "plt.hist(basl[...,1].flatten()); plt.title(\"WM CBF\")\n",
    "plt.subplot(2,2,3)\n",
    "plt.hist(batt[...,0].flatten()); plt.title(\"GM ATT\")\n",
    "plt.subplot(2,2,4)\n",
    "plt.hist(batt[...,1].flatten()); plt.title(\"WM ATT\")\n",
    "plt.show()"
   ]
  }
 ],
 "metadata": {
  "kernelspec": {
   "display_name": "Python [conda env:svb]",
   "language": "python",
   "name": "conda-env-svb-py"
  },
  "language_info": {
   "codemirror_mode": {
    "name": "ipython",
    "version": 3
   },
   "file_extension": ".py",
   "mimetype": "text/x-python",
   "name": "python",
   "nbconvert_exporter": "python",
   "pygments_lexer": "ipython3",
   "version": "3.8.5"
  },
  "nteract": {
   "version": "0.28.0"
  }
 },
 "nbformat": 4,
 "nbformat_minor": 4
}
