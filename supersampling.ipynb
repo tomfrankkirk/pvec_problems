{
 "cells": [
  {
   "cell_type": "markdown",
   "metadata": {},
   "source": [
    "# Super-resolution resampling methods \n",
    "\n",
    "Following on from our meeting, a brief test to see which super-resolution resampling method works best, and whether there is much of a difference.\n",
    "\n",
    "In summary, there doesn't seem to be a big difference, and it seems that regtricks is in fact doing this the other way round compared to applywarp, but I would nevertheless like to leave things as they are (for pragmatic code-related reasons explained later). "
   ]
  },
  {
   "cell_type": "code",
   "execution_count": 1,
   "metadata": {},
   "outputs": [],
   "source": [
    "%load_ext autoreload\n",
    "%autoreload 2\n",
    "import regtricks as rt \n",
    "import matplotlib.pyplot as plt\n",
    "import numpy as np \n",
    "import nibabel \n",
    "from pdb import set_trace\n",
    "from scipy.spatial.transform import Rotation\n",
    "from pvec_functions import * "
   ]
  },
  {
   "cell_type": "markdown",
   "metadata": {},
   "source": [
    "## Test setup\n",
    "\n",
    "The experiment uses a spherical test phantom, as shown previously, for which we can easily calculate PVs in after any transformation via a numerical method. The test is as follows: \n",
    "1. Define a T1 space at 0.75mm resolution, and estimate PVs in it \n",
    "2. Define an ASL space at 3mm resolution, 4x coarser than T1.  \n",
    "3. Define a translation in the xy plane, and calculate PVs in the ASL space *after* the translation. This is the ground truth for (4) and (5). \n",
    "4. Resample and transform the T1 PV estimates from (1) to the ASL grid using supersampling on the source voxel grid (ie, T1)\n",
    "5. Resample and transform the T1 PV estimates from (1) to the ASL grid using supersampling on the reference voxel grid (ie, ASL)"
   ]
  },
  {
   "cell_type": "code",
   "execution_count": 2,
   "metadata": {},
   "outputs": [],
   "source": [
    "asl_spc = rt.ImageSpace.create_axis_aligned([0,0,0], [60,60,1], [3,3,3])\n",
    "sph_cent = asl_spc.fov_size[:2] / 2\n",
    "t1_factor = 4\n",
    "t1_spc = asl_spc.resize_voxels(np.array([1/t1_factor, 1/t1_factor, 1]))"
   ]
  },
  {
   "cell_type": "code",
   "execution_count": 3,
   "metadata": {},
   "outputs": [],
   "source": [
    "R_g = 80\n",
    "R_w = 75"
   ]
  },
  {
   "cell_type": "code",
   "execution_count": 4,
   "metadata": {},
   "outputs": [],
   "source": [
    "pvs_t1 = calc_sphere_pvs(sph_cent, R_g, R_w, t1_spc, 10)"
   ]
  },
  {
   "cell_type": "code",
   "execution_count": 5,
   "metadata": {},
   "outputs": [
    {
     "data": {
      "text/plain": [
       "Registration (linear) with properties:\n",
       "src2ref:       [   1.000    0.000    0.000    1.700]\n",
       "               [   0.000    1.000    0.000    4.300]\n",
       "               [   0.000    0.000    1.000    0.000]\n",
       "               [   0.000    0.000    0.000    1.000]"
      ]
     },
     "execution_count": 5,
     "metadata": {},
     "output_type": "execute_result"
    }
   ],
   "source": [
    "shift = np.array([1.7,4.3])\n",
    "transform = np.eye(4)\n",
    "transform[:2,3] = shift\n",
    "transform = rt.Registration(transform)\n",
    "transform"
   ]
  },
  {
   "cell_type": "code",
   "execution_count": 6,
   "metadata": {},
   "outputs": [],
   "source": [
    "pv_trans_true = calc_sphere_pvs(sph_cent + shift, R_g, R_w, asl_spc, 30)"
   ]
  },
  {
   "cell_type": "markdown",
   "metadata": {},
   "source": [
    "## Super-sampling the source image \n",
    "\n",
    "For this approach, we upsample the source image (*increasing* the resolution disparity between source and reference even further; the source is already finer than the reference), apply the forward transformation to push the super-resolution source voxels into the reference space, and then average across the larger voxels of the reference grid. \n",
    "\n",
    "This requires us to go off-piste a bit with regards to implementation: in particular, it is harder to deal with FoV issues, whereby sorce voxels are pushed outside the FoV of the reference voxel grid, and a bit harder to ensure we are correctly averaging across the appropriate voxel neighbourhoods when downsampling to target resolution (particularly on edges). \n",
    "\n",
    "Note that the source is already 4x higher resolution than the reference, so with the supersampling of 3x used here, it becomes 12x higher. "
   ]
  },
  {
   "cell_type": "code",
   "execution_count": 7,
   "metadata": {},
   "outputs": [
    {
     "data": {
      "text/plain": [
       "<matplotlib.image.AxesImage at 0x7fe1b2c10710>"
      ]
     },
     "execution_count": 7,
     "metadata": {},
     "output_type": "execute_result"
    },
    {
     "data": {
      "image/png": "[encoded data removed]",
      "text/plain": [
       "<Figure size 432x288 with 1 Axes>"
      ]
     },
     "metadata": {
      "needs_background": "light"
     },
     "output_type": "display_data"
    }
   ],
   "source": [
    "super_src = super_source_resample(pvs_t1[...,0], transform, t1_spc, asl_spc, [3,3,1])\n",
    "plt.imshow(super_src)"
   ]
  },
  {
   "cell_type": "markdown",
   "metadata": {},
   "source": [
    "## Super-sampling the reference image \n",
    "\n",
    "For this approach, we upsample the reference image (*decreasing* the resolution disparity between source and reference; making the reference closer in resolution to the source) and apply the inverse transformation to pull the super-resolution reference voxels into the source voxel grid. We then interpolate within the source grid to get the super-resolution output, and finally average across neighbourhoods to get the low resolution output. \n",
    "\n",
    "The advantages of this is that we can use image interpolation functions from SciPy (much safer than my code) which provide a multitude of ways of handing FoV issues, order of interpolation, pre-filtering etc etc. It's a much more robust way of doing things. Furthermore, the process of averaging across neighbourhoods is also much safer (because FoV issues are handled gracefully, whereas the super-sampled source method requires more careful checking). \n",
    "\n",
    "With the supersampling factor of 3x used here, the super-resolution reference grid becomes 1mm isotropic, vs a source resolution of 0.75mm isotropic. Note that the regtricks default for supersampling is to try and match the source/ref voxel grids, which in this case would be 4x. "
   ]
  },
  {
   "cell_type": "code",
   "execution_count": 8,
   "metadata": {},
   "outputs": [
    {
     "data": {
      "text/plain": [
       "<matplotlib.image.AxesImage at 0x7fdef920a290>"
      ]
     },
     "execution_count": 8,
     "metadata": {},
     "output_type": "execute_result"
    },
    {
     "data": {
      "image/png": "[encoded data removed]",
      "text/plain": [
       "<Figure size 432x288 with 1 Axes>"
      ]
     },
     "metadata": {
      "needs_background": "light"
     },
     "output_type": "display_data"
    }
   ],
   "source": [
    "super_ref = super_ref_resample(pvs_t1[...,0], transform, t1_spc, asl_spc, [3,3,1])\n",
    "plt.imshow(super_ref)"
   ]
  },
  {
   "cell_type": "markdown",
   "metadata": {},
   "source": [
    "### Compare performance of each method\n",
    "\n",
    "Both methods were run with 3x supersampling, but this doesn't really mean they are running 'at the same settings'. As can be seen below, the same supersampling factor doesn't imply the same underlying ratio of resolutions for the interpolation operation. \n",
    "- For the super-sampled source approach, the ratio of input / output resolution is 12:1\n",
    "- For the super-sampled reference approach, the ratio of input / output resolution is 4:3 \n",
    "\n",
    "We measure errors within a GM mask wrt the numerical ground truth and take the mean absolute difference. Both methods perform similarly, to within ~0.005% absolute voxel PV difference. \n",
    "\n",
    "In summary, these results show that the question of which approach to use is of negligible importance, and I would therefore prefer to keep regtricks using the super-sampled reference approach: it uses tried and tested code from SciPy which is safer and more adaptable to other use cases. "
   ]
  },
  {
   "cell_type": "code",
   "execution_count": 9,
   "metadata": {},
   "outputs": [],
   "source": [
    "mask = (pv_trans_true[...,0] > 0)\n",
    "super_src_error = np.abs(pv_trans_true[...,0] - super_src)[mask]\n",
    "super_ref_error = np.abs(pv_trans_true[...,0] - super_ref)[mask]"
   ]
  },
  {
   "cell_type": "code",
   "execution_count": 10,
   "metadata": {},
   "outputs": [
    {
     "name": "stdout",
     "output_type": "stream",
     "text": [
      "0.01374955641293171\n",
      "0.011051915215418139\n"
     ]
    }
   ],
   "source": [
    "print(super_src_error.mean())\n",
    "print(super_ref_error.mean())"
   ]
  }
 ],
 "metadata": {
  "kernelspec": {
   "display_name": "Python 3.7.6 64-bit ('anaconda3': virtualenv)",
   "language": "python",
   "name": "python37664bitanaconda3virtualenva7fb9c4bdabf49c78baef1918591f636"
  },
  "language_info": {
   "codemirror_mode": {
    "name": "ipython",
    "version": 3
   },
   "file_extension": ".py",
   "mimetype": "text/x-python",
   "name": "python",
   "nbconvert_exporter": "python",
   "pygments_lexer": "ipython3",
   "version": "3.7.9"
  }
 },
 "nbformat": 4,
 "nbformat_minor": 4
}
